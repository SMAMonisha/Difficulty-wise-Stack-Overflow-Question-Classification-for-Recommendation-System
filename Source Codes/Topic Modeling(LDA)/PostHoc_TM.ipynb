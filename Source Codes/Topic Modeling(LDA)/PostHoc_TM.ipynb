{
  "cells": [
    {
      "cell_type": "markdown",
      "metadata": {
        "id": "qOKowQL54r20"
      },
      "source": [
        "#header"
      ]
    },
    {
      "cell_type": "code",
      "execution_count": null,
      "metadata": {
        "id": "pWknD6-CX9A1"
      },
      "outputs": [],
      "source": [
        "import warnings\n",
        "warnings.filterwarnings(\"ignore\", category=DeprecationWarning)"
      ]
    },
    {
      "cell_type": "code",
      "execution_count": null,
      "metadata": {
        "id": "jfNgOB_K1P-y",
        "colab": {
          "base_uri": "https://localhost:8080/"
        },
        "outputId": "599d7eec-4898-4fa3-f905-3b649191514a"
      },
      "outputs": [
        {
          "output_type": "stream",
          "name": "stdout",
          "text": [
            "[nltk_data] Downloading package stopwords to /root/nltk_data...\n",
            "[nltk_data]   Unzipping corpora/stopwords.zip.\n"
          ]
        },
        {
          "output_type": "execute_result",
          "data": {
            "text/plain": [
              "True"
            ]
          },
          "metadata": {},
          "execution_count": 2
        }
      ],
      "source": [
        "import numpy as np\n",
        "import pandas as pd\n",
        "import matplotlib.pyplot as plt\n",
        "\n",
        "\n",
        "import nltk \n",
        "nltk.download('stopwords')"
      ]
    },
    {
      "cell_type": "code",
      "execution_count": null,
      "metadata": {
        "id": "mPDQ6q2pVr-y",
        "colab": {
          "base_uri": "https://localhost:8080/"
        },
        "outputId": "81bbb7f3-1e4f-45cd-bb73-281f11d03cba"
      },
      "outputs": [
        {
          "output_type": "stream",
          "name": "stdout",
          "text": [
            "Mounted at /content/drive\n"
          ]
        }
      ],
      "source": [
        "from google.colab import drive\n",
        "drive.mount(\"/content/drive\", force_remount=True)"
      ]
    },
    {
      "cell_type": "code",
      "execution_count": null,
      "metadata": {
        "id": "WL7TkC0dV1PV",
        "colab": {
          "base_uri": "https://localhost:8080/"
        },
        "outputId": "39b464c6-b11b-43d8-9cba-4a09324f8ee9"
      },
      "outputs": [
        {
          "output_type": "stream",
          "name": "stdout",
          "text": [
            "Collecting pyldavis\n",
            "  Downloading pyLDAvis-3.3.1.tar.gz (1.7 MB)\n",
            "\u001b[?25l\r\u001b[K     |▏                               | 10 kB 16.7 MB/s eta 0:00:01\r\u001b[K     |▍                               | 20 kB 24.8 MB/s eta 0:00:01\r\u001b[K     |▋                               | 30 kB 29.4 MB/s eta 0:00:01\r\u001b[K     |▉                               | 40 kB 13.5 MB/s eta 0:00:01\r\u001b[K     |█                               | 51 kB 10.5 MB/s eta 0:00:01\r\u001b[K     |█▏                              | 61 kB 11.9 MB/s eta 0:00:01\r\u001b[K     |█▍                              | 71 kB 12.0 MB/s eta 0:00:01\r\u001b[K     |█▋                              | 81 kB 13.1 MB/s eta 0:00:01\r\u001b[K     |█▉                              | 92 kB 14.4 MB/s eta 0:00:01\r\u001b[K     |██                              | 102 kB 12.8 MB/s eta 0:00:01\r\u001b[K     |██▏                             | 112 kB 12.8 MB/s eta 0:00:01\r\u001b[K     |██▍                             | 122 kB 12.8 MB/s eta 0:00:01\r\u001b[K     |██▋                             | 133 kB 12.8 MB/s eta 0:00:01\r\u001b[K     |██▊                             | 143 kB 12.8 MB/s eta 0:00:01\r\u001b[K     |███                             | 153 kB 12.8 MB/s eta 0:00:01\r\u001b[K     |███▏                            | 163 kB 12.8 MB/s eta 0:00:01\r\u001b[K     |███▍                            | 174 kB 12.8 MB/s eta 0:00:01\r\u001b[K     |███▋                            | 184 kB 12.8 MB/s eta 0:00:01\r\u001b[K     |███▊                            | 194 kB 12.8 MB/s eta 0:00:01\r\u001b[K     |████                            | 204 kB 12.8 MB/s eta 0:00:01\r\u001b[K     |████▏                           | 215 kB 12.8 MB/s eta 0:00:01\r\u001b[K     |████▍                           | 225 kB 12.8 MB/s eta 0:00:01\r\u001b[K     |████▋                           | 235 kB 12.8 MB/s eta 0:00:01\r\u001b[K     |████▊                           | 245 kB 12.8 MB/s eta 0:00:01\r\u001b[K     |█████                           | 256 kB 12.8 MB/s eta 0:00:01\r\u001b[K     |█████▏                          | 266 kB 12.8 MB/s eta 0:00:01\r\u001b[K     |█████▍                          | 276 kB 12.8 MB/s eta 0:00:01\r\u001b[K     |█████▌                          | 286 kB 12.8 MB/s eta 0:00:01\r\u001b[K     |█████▊                          | 296 kB 12.8 MB/s eta 0:00:01\r\u001b[K     |██████                          | 307 kB 12.8 MB/s eta 0:00:01\r\u001b[K     |██████▏                         | 317 kB 12.8 MB/s eta 0:00:01\r\u001b[K     |██████▍                         | 327 kB 12.8 MB/s eta 0:00:01\r\u001b[K     |██████▌                         | 337 kB 12.8 MB/s eta 0:00:01\r\u001b[K     |██████▊                         | 348 kB 12.8 MB/s eta 0:00:01\r\u001b[K     |███████                         | 358 kB 12.8 MB/s eta 0:00:01\r\u001b[K     |███████▏                        | 368 kB 12.8 MB/s eta 0:00:01\r\u001b[K     |███████▎                        | 378 kB 12.8 MB/s eta 0:00:01\r\u001b[K     |███████▌                        | 389 kB 12.8 MB/s eta 0:00:01\r\u001b[K     |███████▊                        | 399 kB 12.8 MB/s eta 0:00:01\r\u001b[K     |████████                        | 409 kB 12.8 MB/s eta 0:00:01\r\u001b[K     |████████▏                       | 419 kB 12.8 MB/s eta 0:00:01\r\u001b[K     |████████▎                       | 430 kB 12.8 MB/s eta 0:00:01\r\u001b[K     |████████▌                       | 440 kB 12.8 MB/s eta 0:00:01\r\u001b[K     |████████▊                       | 450 kB 12.8 MB/s eta 0:00:01\r\u001b[K     |█████████                       | 460 kB 12.8 MB/s eta 0:00:01\r\u001b[K     |█████████▏                      | 471 kB 12.8 MB/s eta 0:00:01\r\u001b[K     |█████████▎                      | 481 kB 12.8 MB/s eta 0:00:01\r\u001b[K     |█████████▌                      | 491 kB 12.8 MB/s eta 0:00:01\r\u001b[K     |█████████▊                      | 501 kB 12.8 MB/s eta 0:00:01\r\u001b[K     |██████████                      | 512 kB 12.8 MB/s eta 0:00:01\r\u001b[K     |██████████                      | 522 kB 12.8 MB/s eta 0:00:01\r\u001b[K     |██████████▎                     | 532 kB 12.8 MB/s eta 0:00:01\r\u001b[K     |██████████▌                     | 542 kB 12.8 MB/s eta 0:00:01\r\u001b[K     |██████████▊                     | 552 kB 12.8 MB/s eta 0:00:01\r\u001b[K     |███████████                     | 563 kB 12.8 MB/s eta 0:00:01\r\u001b[K     |███████████                     | 573 kB 12.8 MB/s eta 0:00:01\r\u001b[K     |███████████▎                    | 583 kB 12.8 MB/s eta 0:00:01\r\u001b[K     |███████████▌                    | 593 kB 12.8 MB/s eta 0:00:01\r\u001b[K     |███████████▊                    | 604 kB 12.8 MB/s eta 0:00:01\r\u001b[K     |███████████▉                    | 614 kB 12.8 MB/s eta 0:00:01\r\u001b[K     |████████████                    | 624 kB 12.8 MB/s eta 0:00:01\r\u001b[K     |████████████▎                   | 634 kB 12.8 MB/s eta 0:00:01\r\u001b[K     |████████████▌                   | 645 kB 12.8 MB/s eta 0:00:01\r\u001b[K     |████████████▊                   | 655 kB 12.8 MB/s eta 0:00:01\r\u001b[K     |████████████▉                   | 665 kB 12.8 MB/s eta 0:00:01\r\u001b[K     |█████████████                   | 675 kB 12.8 MB/s eta 0:00:01\r\u001b[K     |█████████████▎                  | 686 kB 12.8 MB/s eta 0:00:01\r\u001b[K     |█████████████▌                  | 696 kB 12.8 MB/s eta 0:00:01\r\u001b[K     |█████████████▊                  | 706 kB 12.8 MB/s eta 0:00:01\r\u001b[K     |█████████████▉                  | 716 kB 12.8 MB/s eta 0:00:01\r\u001b[K     |██████████████                  | 727 kB 12.8 MB/s eta 0:00:01\r\u001b[K     |██████████████▎                 | 737 kB 12.8 MB/s eta 0:00:01\r\u001b[K     |██████████████▌                 | 747 kB 12.8 MB/s eta 0:00:01\r\u001b[K     |██████████████▋                 | 757 kB 12.8 MB/s eta 0:00:01\r\u001b[K     |██████████████▉                 | 768 kB 12.8 MB/s eta 0:00:01\r\u001b[K     |███████████████                 | 778 kB 12.8 MB/s eta 0:00:01\r\u001b[K     |███████████████▎                | 788 kB 12.8 MB/s eta 0:00:01\r\u001b[K     |███████████████▌                | 798 kB 12.8 MB/s eta 0:00:01\r\u001b[K     |███████████████▋                | 808 kB 12.8 MB/s eta 0:00:01\r\u001b[K     |███████████████▉                | 819 kB 12.8 MB/s eta 0:00:01\r\u001b[K     |████████████████                | 829 kB 12.8 MB/s eta 0:00:01\r\u001b[K     |████████████████▎               | 839 kB 12.8 MB/s eta 0:00:01\r\u001b[K     |████████████████▍               | 849 kB 12.8 MB/s eta 0:00:01\r\u001b[K     |████████████████▋               | 860 kB 12.8 MB/s eta 0:00:01\r\u001b[K     |████████████████▉               | 870 kB 12.8 MB/s eta 0:00:01\r\u001b[K     |█████████████████               | 880 kB 12.8 MB/s eta 0:00:01\r\u001b[K     |█████████████████▎              | 890 kB 12.8 MB/s eta 0:00:01\r\u001b[K     |█████████████████▍              | 901 kB 12.8 MB/s eta 0:00:01\r\u001b[K     |█████████████████▋              | 911 kB 12.8 MB/s eta 0:00:01\r\u001b[K     |█████████████████▉              | 921 kB 12.8 MB/s eta 0:00:01\r\u001b[K     |██████████████████              | 931 kB 12.8 MB/s eta 0:00:01\r\u001b[K     |██████████████████▎             | 942 kB 12.8 MB/s eta 0:00:01\r\u001b[K     |██████████████████▍             | 952 kB 12.8 MB/s eta 0:00:01\r\u001b[K     |██████████████████▋             | 962 kB 12.8 MB/s eta 0:00:01\r\u001b[K     |██████████████████▉             | 972 kB 12.8 MB/s eta 0:00:01\r\u001b[K     |███████████████████             | 983 kB 12.8 MB/s eta 0:00:01\r\u001b[K     |███████████████████▏            | 993 kB 12.8 MB/s eta 0:00:01\r\u001b[K     |███████████████████▍            | 1.0 MB 12.8 MB/s eta 0:00:01\r\u001b[K     |███████████████████▋            | 1.0 MB 12.8 MB/s eta 0:00:01\r\u001b[K     |███████████████████▉            | 1.0 MB 12.8 MB/s eta 0:00:01\r\u001b[K     |████████████████████            | 1.0 MB 12.8 MB/s eta 0:00:01\r\u001b[K     |████████████████████▏           | 1.0 MB 12.8 MB/s eta 0:00:01\r\u001b[K     |████████████████████▍           | 1.1 MB 12.8 MB/s eta 0:00:01\r\u001b[K     |████████████████████▋           | 1.1 MB 12.8 MB/s eta 0:00:01\r\u001b[K     |████████████████████▉           | 1.1 MB 12.8 MB/s eta 0:00:01\r\u001b[K     |█████████████████████           | 1.1 MB 12.8 MB/s eta 0:00:01\r\u001b[K     |█████████████████████▏          | 1.1 MB 12.8 MB/s eta 0:00:01\r\u001b[K     |█████████████████████▍          | 1.1 MB 12.8 MB/s eta 0:00:01\r\u001b[K     |█████████████████████▋          | 1.1 MB 12.8 MB/s eta 0:00:01\r\u001b[K     |█████████████████████▉          | 1.1 MB 12.8 MB/s eta 0:00:01\r\u001b[K     |██████████████████████          | 1.1 MB 12.8 MB/s eta 0:00:01\r\u001b[K     |██████████████████████▏         | 1.1 MB 12.8 MB/s eta 0:00:01\r\u001b[K     |██████████████████████▍         | 1.2 MB 12.8 MB/s eta 0:00:01\r\u001b[K     |██████████████████████▋         | 1.2 MB 12.8 MB/s eta 0:00:01\r\u001b[K     |██████████████████████▉         | 1.2 MB 12.8 MB/s eta 0:00:01\r\u001b[K     |███████████████████████         | 1.2 MB 12.8 MB/s eta 0:00:01\r\u001b[K     |███████████████████████▏        | 1.2 MB 12.8 MB/s eta 0:00:01\r\u001b[K     |███████████████████████▍        | 1.2 MB 12.8 MB/s eta 0:00:01\r\u001b[K     |███████████████████████▋        | 1.2 MB 12.8 MB/s eta 0:00:01\r\u001b[K     |███████████████████████▊        | 1.2 MB 12.8 MB/s eta 0:00:01\r\u001b[K     |████████████████████████        | 1.2 MB 12.8 MB/s eta 0:00:01\r\u001b[K     |████████████████████████▏       | 1.2 MB 12.8 MB/s eta 0:00:01\r\u001b[K     |████████████████████████▍       | 1.3 MB 12.8 MB/s eta 0:00:01\r\u001b[K     |████████████████████████▋       | 1.3 MB 12.8 MB/s eta 0:00:01\r\u001b[K     |████████████████████████▊       | 1.3 MB 12.8 MB/s eta 0:00:01\r\u001b[K     |█████████████████████████       | 1.3 MB 12.8 MB/s eta 0:00:01\r\u001b[K     |█████████████████████████▏      | 1.3 MB 12.8 MB/s eta 0:00:01\r\u001b[K     |█████████████████████████▍      | 1.3 MB 12.8 MB/s eta 0:00:01\r\u001b[K     |█████████████████████████▌      | 1.3 MB 12.8 MB/s eta 0:00:01\r\u001b[K     |█████████████████████████▊      | 1.3 MB 12.8 MB/s eta 0:00:01\r\u001b[K     |██████████████████████████      | 1.3 MB 12.8 MB/s eta 0:00:01\r\u001b[K     |██████████████████████████▏     | 1.4 MB 12.8 MB/s eta 0:00:01\r\u001b[K     |██████████████████████████▍     | 1.4 MB 12.8 MB/s eta 0:00:01\r\u001b[K     |██████████████████████████▌     | 1.4 MB 12.8 MB/s eta 0:00:01\r\u001b[K     |██████████████████████████▊     | 1.4 MB 12.8 MB/s eta 0:00:01\r\u001b[K     |███████████████████████████     | 1.4 MB 12.8 MB/s eta 0:00:01\r\u001b[K     |███████████████████████████▏    | 1.4 MB 12.8 MB/s eta 0:00:01\r\u001b[K     |███████████████████████████▍    | 1.4 MB 12.8 MB/s eta 0:00:01\r\u001b[K     |███████████████████████████▌    | 1.4 MB 12.8 MB/s eta 0:00:01\r\u001b[K     |███████████████████████████▊    | 1.4 MB 12.8 MB/s eta 0:00:01\r\u001b[K     |████████████████████████████    | 1.4 MB 12.8 MB/s eta 0:00:01\r\u001b[K     |████████████████████████████▏   | 1.5 MB 12.8 MB/s eta 0:00:01\r\u001b[K     |████████████████████████████▎   | 1.5 MB 12.8 MB/s eta 0:00:01\r\u001b[K     |████████████████████████████▌   | 1.5 MB 12.8 MB/s eta 0:00:01\r\u001b[K     |████████████████████████████▊   | 1.5 MB 12.8 MB/s eta 0:00:01\r\u001b[K     |█████████████████████████████   | 1.5 MB 12.8 MB/s eta 0:00:01\r\u001b[K     |█████████████████████████████▏  | 1.5 MB 12.8 MB/s eta 0:00:01\r\u001b[K     |█████████████████████████████▎  | 1.5 MB 12.8 MB/s eta 0:00:01\r\u001b[K     |█████████████████████████████▌  | 1.5 MB 12.8 MB/s eta 0:00:01\r\u001b[K     |█████████████████████████████▊  | 1.5 MB 12.8 MB/s eta 0:00:01\r\u001b[K     |██████████████████████████████  | 1.5 MB 12.8 MB/s eta 0:00:01\r\u001b[K     |██████████████████████████████▏ | 1.6 MB 12.8 MB/s eta 0:00:01\r\u001b[K     |██████████████████████████████▎ | 1.6 MB 12.8 MB/s eta 0:00:01\r\u001b[K     |██████████████████████████████▌ | 1.6 MB 12.8 MB/s eta 0:00:01\r\u001b[K     |██████████████████████████████▊ | 1.6 MB 12.8 MB/s eta 0:00:01\r\u001b[K     |███████████████████████████████ | 1.6 MB 12.8 MB/s eta 0:00:01\r\u001b[K     |███████████████████████████████ | 1.6 MB 12.8 MB/s eta 0:00:01\r\u001b[K     |███████████████████████████████▎| 1.6 MB 12.8 MB/s eta 0:00:01\r\u001b[K     |███████████████████████████████▌| 1.6 MB 12.8 MB/s eta 0:00:01\r\u001b[K     |███████████████████████████████▊| 1.6 MB 12.8 MB/s eta 0:00:01\r\u001b[K     |████████████████████████████████| 1.6 MB 12.8 MB/s eta 0:00:01\r\u001b[K     |████████████████████████████████| 1.7 MB 12.8 MB/s \n",
            "\u001b[?25h  Installing build dependencies ... \u001b[?25l\u001b[?25hdone\n",
            "  Getting requirements to build wheel ... \u001b[?25l\u001b[?25hdone\n",
            "  Installing backend dependencies ... \u001b[?25l\u001b[?25hdone\n",
            "    Preparing wheel metadata ... \u001b[?25l\u001b[?25hdone\n",
            "Requirement already satisfied: future in /usr/local/lib/python3.7/dist-packages (from pyldavis) (0.16.0)\n",
            "Requirement already satisfied: scikit-learn in /usr/local/lib/python3.7/dist-packages (from pyldavis) (1.0.2)\n",
            "Collecting funcy\n",
            "  Downloading funcy-1.17-py2.py3-none-any.whl (33 kB)\n",
            "Requirement already satisfied: setuptools in /usr/local/lib/python3.7/dist-packages (from pyldavis) (57.4.0)\n",
            "Requirement already satisfied: sklearn in /usr/local/lib/python3.7/dist-packages (from pyldavis) (0.0)\n",
            "Requirement already satisfied: pandas>=1.2.0 in /usr/local/lib/python3.7/dist-packages (from pyldavis) (1.3.5)\n",
            "Requirement already satisfied: numpy>=1.20.0 in /usr/local/lib/python3.7/dist-packages (from pyldavis) (1.21.6)\n",
            "Requirement already satisfied: numexpr in /usr/local/lib/python3.7/dist-packages (from pyldavis) (2.8.1)\n",
            "Requirement already satisfied: gensim in /usr/local/lib/python3.7/dist-packages (from pyldavis) (3.6.0)\n",
            "Requirement already satisfied: scipy in /usr/local/lib/python3.7/dist-packages (from pyldavis) (1.4.1)\n",
            "Requirement already satisfied: joblib in /usr/local/lib/python3.7/dist-packages (from pyldavis) (1.1.0)\n",
            "Requirement already satisfied: jinja2 in /usr/local/lib/python3.7/dist-packages (from pyldavis) (2.11.3)\n",
            "Requirement already satisfied: python-dateutil>=2.7.3 in /usr/local/lib/python3.7/dist-packages (from pandas>=1.2.0->pyldavis) (2.8.2)\n",
            "Requirement already satisfied: pytz>=2017.3 in /usr/local/lib/python3.7/dist-packages (from pandas>=1.2.0->pyldavis) (2022.1)\n",
            "Requirement already satisfied: six>=1.5 in /usr/local/lib/python3.7/dist-packages (from python-dateutil>=2.7.3->pandas>=1.2.0->pyldavis) (1.15.0)\n",
            "Requirement already satisfied: smart-open>=1.2.1 in /usr/local/lib/python3.7/dist-packages (from gensim->pyldavis) (6.0.0)\n",
            "Requirement already satisfied: MarkupSafe>=0.23 in /usr/local/lib/python3.7/dist-packages (from jinja2->pyldavis) (2.0.1)\n",
            "Requirement already satisfied: packaging in /usr/local/lib/python3.7/dist-packages (from numexpr->pyldavis) (21.3)\n",
            "Requirement already satisfied: pyparsing!=3.0.5,>=2.0.2 in /usr/local/lib/python3.7/dist-packages (from packaging->numexpr->pyldavis) (3.0.8)\n",
            "Requirement already satisfied: threadpoolctl>=2.0.0 in /usr/local/lib/python3.7/dist-packages (from scikit-learn->pyldavis) (3.1.0)\n",
            "Building wheels for collected packages: pyldavis\n",
            "  Building wheel for pyldavis (PEP 517) ... \u001b[?25l\u001b[?25hdone\n",
            "  Created wheel for pyldavis: filename=pyLDAvis-3.3.1-py2.py3-none-any.whl size=136898 sha256=e1e68868378fcae19f9e45f5d8433893e1a896219d41f806967e4db46b37eb99\n",
            "  Stored in directory: /root/.cache/pip/wheels/c9/21/f6/17bcf2667e8a68532ba2fbf6d5c72fdf4c7f7d9abfa4852d2f\n",
            "Successfully built pyldavis\n",
            "Installing collected packages: funcy, pyldavis\n",
            "Successfully installed funcy-1.17 pyldavis-3.3.1\n"
          ]
        }
      ],
      "source": [
        "!pip install pyldavis"
      ]
    },
    {
      "cell_type": "code",
      "execution_count": null,
      "metadata": {
        "id": "PE4cMC6x3Zcp",
        "colab": {
          "base_uri": "https://localhost:8080/"
        },
        "outputId": "b970cd80-a6b6-4bef-95fd-7b860f5661ab"
      },
      "outputs": [
        {
          "output_type": "stream",
          "name": "stderr",
          "text": [
            "/usr/local/lib/python3.7/dist-packages/past/types/oldstr.py:5: DeprecationWarning: Using or importing the ABCs from 'collections' instead of from 'collections.abc' is deprecated since Python 3.3,and in 3.9 it will stop working\n",
            "  from collections import Iterable\n",
            "/usr/local/lib/python3.7/dist-packages/past/builtins/misc.py:4: DeprecationWarning: Using or importing the ABCs from 'collections' instead of from 'collections.abc' is deprecated since Python 3.3,and in 3.9 it will stop working\n",
            "  from collections import Mapping\n",
            "/usr/local/lib/python3.7/dist-packages/scipy/sparse/sparsetools.py:21: DeprecationWarning: `scipy.sparse.sparsetools` is deprecated!\n",
            "scipy.sparse.sparsetools is a private module for scipy.sparse, and should not be used.\n",
            "  _deprecated()\n"
          ]
        }
      ],
      "source": [
        "import pyLDAvis\n",
        "import pyLDAvis.gensim_models\n",
        "import gensim\n",
        "import gensim.corpora as corpora\n",
        "from gensim.utils import simple_preprocess\n",
        "from gensim.models import CoherenceModel\n",
        "import spacy"
      ]
    },
    {
      "cell_type": "code",
      "execution_count": null,
      "metadata": {
        "id": "896H4u7N3aup"
      },
      "outputs": [],
      "source": [
        "from google.colab import auth \n",
        "auth.authenticate_user() \n",
        " \n",
        "import gspread \n",
        "from google.auth import default \n",
        "creds, _ = default() \n",
        " \n",
        "gc = gspread.authorize(creds)"
      ]
    },
    {
      "cell_type": "code",
      "execution_count": null,
      "metadata": {
        "id": "BcbQpJYmtws3",
        "colab": {
          "base_uri": "https://localhost:8080/"
        },
        "outputId": "d0dca58b-4468-45f1-ec3c-7c5f18960b58"
      },
      "outputs": [
        {
          "output_type": "stream",
          "name": "stderr",
          "text": [
            "/usr/local/lib/python3.7/dist-packages/catalogue.py:138: DeprecationWarning: SelectableGroups dict interface is deprecated. Use select.\n",
            "  for entry_point in AVAILABLE_ENTRY_POINTS.get(self.entry_point_namespace, []):\n",
            "/usr/local/lib/python3.7/dist-packages/catalogue.py:138: DeprecationWarning: SelectableGroups dict interface is deprecated. Use select.\n",
            "  for entry_point in AVAILABLE_ENTRY_POINTS.get(self.entry_point_namespace, []):\n",
            "/usr/local/lib/python3.7/dist-packages/catalogue.py:126: DeprecationWarning: SelectableGroups dict interface is deprecated. Use select.\n",
            "  for entry_point in AVAILABLE_ENTRY_POINTS.get(self.entry_point_namespace, []):\n",
            "/usr/local/lib/python3.7/dist-packages/catalogue.py:138: DeprecationWarning: SelectableGroups dict interface is deprecated. Use select.\n",
            "  for entry_point in AVAILABLE_ENTRY_POINTS.get(self.entry_point_namespace, []):\n"
          ]
        }
      ],
      "source": [
        "nlp = spacy.load('en_core_web_sm', disable=['parser', 'ner'])\n",
        "stop_words = nltk.corpus.stopwords.words('english')"
      ]
    },
    {
      "cell_type": "markdown",
      "metadata": {
        "id": "CRoP-BFu4xUH"
      },
      "source": [
        "#main"
      ]
    },
    {
      "cell_type": "code",
      "execution_count": null,
      "metadata": {
        "id": "aXZqJn017gfY"
      },
      "outputs": [],
      "source": [
        "\n",
        "def process_words(texts, stop_words=stop_words, allowed_tags=['NOUN', 'ADJ', 'VERB', 'ADV']):\n",
        "    bigram = gensim.models.Phrases(texts, min_count=20, threshold=100)\n",
        "    trigram = gensim.models.Phrases(bigram[texts], threshold=100)\n",
        "    bigram_mod = gensim.models.phrases.Phraser(bigram)\n",
        "    trigram_mod = gensim.models.phrases.Phraser(trigram)\n",
        "    texts = [[word for word in simple_preprocess(str(doc), deacc=True, min_len=3) if word not in stop_words] for doc in texts]\n",
        "    texts = [bigram_mod[doc] for doc in texts]\n",
        "    texts = [trigram_mod[bigram_mod[doc]] for doc in texts]\n",
        "    \n",
        "    texts_out = []\n",
        "    for sent in texts:\n",
        "        doc = nlp(\" \".join(sent)) \n",
        "        texts_out.append([token.lemma_ for token in doc if token.pos_ in allowed_tags])\n",
        "    \n",
        "    texts_out = [[word for word in simple_preprocess(str(doc), deacc=True, min_len=3) if word not in stop_words] for doc in texts_out]    \n",
        "    # print(texts_out)\n",
        "    return texts_out"
      ]
    },
    {
      "cell_type": "code",
      "execution_count": null,
      "metadata": {
        "id": "6IHC0nP27krR"
      },
      "outputs": [],
      "source": [
        "def corpus_ready(data):\n",
        "    data_ready = process_words(data)\n",
        "    id2word = corpora.Dictionary(data_ready)\n",
        "    corpus = [id2word.doc2bow(text) for text in data_ready]\n",
        "    # print(corpus)\n",
        "    return corpus,id2word"
      ]
    },
    {
      "cell_type": "code",
      "execution_count": null,
      "metadata": {
        "id": "GKBQ5ftBaEx8",
        "colab": {
          "base_uri": "https://localhost:8080/"
        },
        "outputId": "81d82b72-7a6d-406b-e016-d106069d1977"
      },
      "outputs": [
        {
          "output_type": "stream",
          "name": "stdout",
          "text": [
            "Collecting pandas==1.2\n",
            "  Downloading pandas-1.2.0-cp37-cp37m-manylinux1_x86_64.whl (9.9 MB)\n",
            "\u001b[K     |████████████████████████████████| 9.9 MB 12.3 MB/s \n",
            "\u001b[?25hRequirement already satisfied: pytz>=2017.3 in /usr/local/lib/python3.7/dist-packages (from pandas==1.2) (2022.1)\n",
            "Requirement already satisfied: python-dateutil>=2.7.3 in /usr/local/lib/python3.7/dist-packages (from pandas==1.2) (2.8.2)\n",
            "Requirement already satisfied: numpy>=1.16.5 in /usr/local/lib/python3.7/dist-packages (from pandas==1.2) (1.21.6)\n",
            "Requirement already satisfied: six>=1.5 in /usr/local/lib/python3.7/dist-packages (from python-dateutil>=2.7.3->pandas==1.2) (1.15.0)\n",
            "Installing collected packages: pandas\n",
            "  Attempting uninstall: pandas\n",
            "    Found existing installation: pandas 1.3.5\n",
            "    Uninstalling pandas-1.3.5:\n",
            "      Successfully uninstalled pandas-1.3.5\n",
            "Successfully installed pandas-1.2.0\n"
          ]
        },
        {
          "output_type": "display_data",
          "data": {
            "application/vnd.colab-display-data+json": {
              "pip_warning": {
                "packages": [
                  "pandas"
                ]
              }
            }
          },
          "metadata": {}
        }
      ],
      "source": [
        "!pip install --upgrade pandas==1.2\n",
        "from sklearn import preprocessing\n",
        "\n",
        "def frequency_counter(data):\n",
        "    dict_corpus = {}\n",
        "    dict_={}\n",
        "    totalfreq=0\n",
        "    corpus,id2word=corpus_ready(data)\n",
        "    for i in range(len(corpus)):\n",
        "        for idx, freq in corpus[i]:\n",
        "            totalfreq+=freq\n",
        "            if id2word[idx] in dict_corpus:\n",
        "                dict_corpus[id2word[idx]] += freq\n",
        "            else:\n",
        "                dict_corpus[id2word[idx]] = freq\n",
        "\n",
        "    dict_['words']=dict_corpus.keys() \n",
        "    dict_['freq']= dict_corpus.values()\n",
        "    dict_df = pd.DataFrame.from_dict(dict_)\n",
        "    x = dict_df['freq'].values.astype(float).reshape(-1,1) #returns a numpy array\n",
        "    min_max_scaler = preprocessing.MinMaxScaler()\n",
        "    x_scaled = min_max_scaler.fit_transform(x)\n",
        "    dict_df['freqNormalize']=x_scaled\n",
        "    extension = dict_df[dict_df.freq>50].words.values\n",
        "    stop_words.extend(extension)\n",
        "    # print(stop_words)"
      ]
    },
    {
      "cell_type": "markdown",
      "metadata": {
        "id": "0spvlWXl8bHx"
      },
      "source": [
        "#generate TM"
      ]
    },
    {
      "cell_type": "code",
      "execution_count": null,
      "metadata": {
        "id": "RvfiHEI1d-H7"
      },
      "outputs": [],
      "source": [
        "def new_corpus(data,test=0):\n",
        "    if test==0:\n",
        "        frequency_counter(data)\n",
        "    data_ready = process_words(data)\n",
        "    id2word = corpora.Dictionary(data_ready)\n",
        "    id2word.filter_extremes(no_below=2, no_above=0.5)\n",
        "    corpus = [id2word.doc2bow(text) for text in data_ready]\n",
        "    # print(corpus)\n",
        "    return corpus,id2word"
      ]
    },
    {
      "cell_type": "code",
      "execution_count": null,
      "metadata": {
        "id": "uNNWXXFnBdgF"
      },
      "outputs": [],
      "source": [
        "def topic_model_train(X_train,topics):\n",
        "    global lda\n",
        "    corpus,id2word=new_corpus(X_train)\n",
        "    lda = gensim.models.ldamodel.LdaModel(corpus=corpus, num_topics=topics, id2word=id2word)\n",
        "    tm_train_results=lda[corpus]\n",
        "    # print(tm_train_results)\n",
        "    return tm_train_results"
      ]
    },
    {
      "cell_type": "code",
      "execution_count": null,
      "metadata": {
        "id": "ZxUUf2sChnFm"
      },
      "outputs": [],
      "source": [
        "def topic_prediction_vector(X_test,topics):\n",
        "    corpus,_ =new_corpus(X_test,1)\n",
        "    tm_test_results = lda[corpus]\n",
        "    # print(tm_test_results)\n",
        "    return tm_test_results"
      ]
    },
    {
      "cell_type": "code",
      "execution_count": null,
      "metadata": {
        "id": "APRNrZLBkCaw"
      },
      "outputs": [],
      "source": [
        "def create_TM_df(tm_results,topics):\n",
        "    rows, cols = (len(tm_results), topics)\n",
        "    feature=[]\n",
        "    for i in range(rows):\n",
        "        col = tm_results[i]\n",
        "        topic_exist=[topic[0] for topic in col]\n",
        "        for j in range(cols):\n",
        "            if j in topic_exist:\n",
        "                continue\n",
        "            else:\n",
        "                col.append((j,0))\n",
        "        col.sort()\n",
        "        feature.append(col)\n",
        "    columns = [\"Topic-\" + str(number) for number in range(1,topics+1)]\n",
        "    X_TM_df=pd.DataFrame([[y[1] for y in  x] for x in feature],columns=columns)\n",
        "    return X_TM_df"
      ]
    },
    {
      "cell_type": "markdown",
      "metadata": {
        "id": "kxnKvMMa3j92"
      },
      "source": [
        "#Metrics"
      ]
    },
    {
      "cell_type": "code",
      "execution_count": null,
      "metadata": {
        "id": "5oQwKBLvlhTW"
      },
      "outputs": [],
      "source": [
        "from sklearn.metrics import accuracy_score\n",
        "from sklearn.metrics import precision_score\n",
        "from sklearn.metrics import recall_score\n",
        "from sklearn.metrics import f1_score\n",
        "from sklearn.metrics import roc_auc_score\n",
        "\n",
        "def permanceMetrics(Y, pred, pred_prob):\n",
        "    acc = accuracy_score(Y,pred)\n",
        "    pre = precision_score(Y,pred,average='weighted')\n",
        "    re = recall_score(Y,pred, average='weighted')\n",
        "    f1 = f1_score(Y,pred, average='weighted')\n",
        "    acrc = roc_auc_score(Y,pred_prob,multi_class= 'ovr')\n",
        "    return acc, pre, re, f1, acrc\n",
        "\n",
        "def avgMetric(met):\n",
        "    res = np.array(met)\n",
        "    acc = res[::5].mean()\n",
        "    pre = res[1::5].mean()\n",
        "    re = res[2::5].mean()\n",
        "    f1 = res[3::5].mean()\n",
        "    acrc = res[4::5].mean()\n",
        "    return np.array([acc, pre, re, f1, acrc])"
      ]
    },
    {
      "cell_type": "markdown",
      "metadata": {
        "id": "MaXgUbyXnqv2"
      },
      "source": [
        "#New Version"
      ]
    },
    {
      "cell_type": "code",
      "execution_count": null,
      "metadata": {
        "id": "EJn17OWojHZS"
      },
      "outputs": [],
      "source": [
        "import pandas as pd\n",
        "worksheet1 = gc.open('Final Dataset').get_worksheet(0)\n",
        "worksheet2 = gc.open('Final Dataset').get_worksheet(1)\n",
        "rows1 = worksheet1.get_all_values()\n",
        "rows2 = worksheet2.get_all_values()\n",
        "\n",
        "\n",
        "stackData1=pd.DataFrame.from_records(rows1,columns=rows1[0])\n",
        "stackData2=pd.DataFrame.from_records(rows2,columns=rows2[0])\n",
        "\n",
        "\n",
        "stackData1.drop(0, inplace=True, axis=0)\n",
        "stackData2.drop(0, inplace=True, axis=0)\n",
        "\n",
        "\n",
        "stackData=[stackData1, stackData2]\n",
        "stackData=pd.concat(stackData,ignore_index=True)\n",
        "\n",
        "stackData['ProcessedBody']=stackData['ProcessedBody']+stackData['Tags']+stackData['Title']\n",
        "\n",
        "feature=[\"ProcessedBody\", \"LOC\", \"QuestionLength\",\t\"Url+ImageCount\",\t\"Reputation\",\t\"user_badge_bronze_counts\",\t\"user_badge_gold_counts\",\t\"user_badge_silver_counts\",\t\"accept_rate\" , \"view_count\",\t\"answer_count\",\t\"favorite_count\",\t\"question_score\",\t\"up_vote_count\",\t\"First_answer_Interval\",\"Accept_answer_Interval\"]\n",
        "\n",
        "#---------count------------#\n",
        "stackData[\"view_count\"] = pd.to_numeric(stackData[\"view_count\"])\n",
        "stackData[\"answer_count\"] = pd.to_numeric(stackData[\"answer_count\"])\n",
        "stackData[\"favorite_count\"] = pd.to_numeric(stackData[\"favorite_count\"])\n",
        "stackData[\"question_score\"] = pd.to_numeric(stackData[\"question_score\"])\n",
        "stackData[\"up_vote_count\"] = pd.to_numeric(stackData[\"up_vote_count\"])\n",
        "\n",
        "#---------Data------------,\t\"First_answer_date\",\t\"Accepted_answer_date\"#\n",
        "stackData[\"creation_date\"] = pd.to_datetime(stackData[\"creation_date\"],unit='s')\n",
        "stackData[\"First_answer_date\"] = pd.to_datetime(stackData[\"First_answer_date\"],unit='s')\n",
        "stackData[\"Accepted_answer_date\"] = pd.to_datetime(stackData[\"Accepted_answer_date\"],unit='s')\n",
        "\n",
        "#----------Date Interval ------#\n",
        "stackData[\"First_answer_Interval\"]=(stackData[\"First_answer_date\"]-stackData[\"creation_date\"])/pd.Timedelta(minutes=1)\n",
        "stackData[\"Accept_answer_Interval\"]=(stackData[\"Accepted_answer_date\"]-stackData[\"creation_date\"])/pd.Timedelta(minutes=1)\n",
        "\n",
        "stackData[\"First_answer_Interval\"] = stackData[\"First_answer_Interval\"].apply(lambda x: -1 if x <= 0 else x)\n",
        "stackData[\"Accept_answer_Interval\"]=stackData[\"Accept_answer_Interval\"].apply(lambda x: -1 if x <= 0 else x)\n",
        "# print(stackData[feature])\n",
        "data=stackData[feature].values\n",
        "y=stackData.Label.values\n"
      ]
    },
    {
      "cell_type": "markdown",
      "source": [
        "#Random Forest"
      ],
      "metadata": {
        "id": "NgrQ3UcfPceQ"
      }
    },
    {
      "cell_type": "code",
      "execution_count": null,
      "metadata": {
        "id": "hAxUwcB2gQw2"
      },
      "outputs": [],
      "source": [
        "import warnings\n",
        "warnings.filterwarnings(\"ignore\", category=DeprecationWarning) \n",
        "warnings.filterwarnings(\"ignore\", category=UserWarning) \n",
        "\n",
        "from sklearn import model_selection\n",
        "from sklearn.metrics import classification_report\n",
        "from sklearn.model_selection import StratifiedKFold\n",
        "from sklearn.metrics import confusion_matrix\n",
        "from sklearn.ensemble import RandomForestClassifier as RF\n",
        "skf = StratifiedKFold(n_splits=10)\n",
        "\n",
        "i=0\n",
        "NoOfTopics=36\n",
        "rm = []\n",
        "for topic in range(NoOfTopics,NoOfTopics+1):\n",
        "    print(\"For total Number of Topics:\",topic)\n",
        "    print('Metrics :  Accuracy \\t\\tPrecision \\t\\tRecall \\t\\tF1-score \\tAUC_ROC')\n",
        "    i=0\n",
        "    for train_index, test_index in skf.split(data,y):\n",
        "        X_train_body, X_test_body = data[:,0][train_index], data[:,0][test_index]\n",
        "        Y_train, Y_test = y[train_index], y[test_index]\n",
        "\n",
        "        print(X_train_body.shape, X_test_body.shape)\n",
        "        print(Y_train.shape, Y_test.shape)\n",
        "\n",
        "\n",
        "        tm_train_results=topic_model_train(X_train_body,topic)\n",
        "        tm_test_results=topic_prediction_vector(X_test_body,topic)\n",
        "        X_train_df=create_TM_df(tm_train_results,topic)\n",
        "        X_test_df=create_TM_df(tm_test_results,topic)\n",
        "\n",
        "        X_train_others,X_test_others=data[:,1:][train_index], data[:,1:][test_index]\n",
        "\n",
        "        X_train_others_df=pd.DataFrame([[x for x in col] for col in X_train_others],columns=feature[1:])\n",
        "        X_test_others_df=pd.DataFrame([[x for x in col] for col in X_test_others],columns=feature[1:])\n",
        "\n",
        "        X_all_train_df=pd.concat([X_train_df,X_train_others_df], axis=1)\n",
        "        X_all_test_df=pd.concat([X_test_df,X_test_others_df], axis=1)\n",
        "\n",
        "\n",
        "\n",
        "        X_train=X_all_train_df.values\n",
        "        X_test=X_all_test_df.values\n",
        "\n",
        "\n",
        "        rf = RF(n_estimators = 15, max_depth = 8, criterion='entropy', random_state = 42)\n",
        "\n",
        "\n",
        "\n",
        "        rf.fit(X_train,Y_train)\n",
        "        pred = rf.predict(X_test)\n",
        "        pred_prob = rf.predict_proba(X_test)\n",
        "\n",
        "\n",
        "        i=i+1\n",
        "        acc, pre, re, f1, acrc = permanceMetrics(Y_test, pred, pred_prob)\n",
        "        print('Fold-',i,': ', acc, pre, re, f1, acrc)\n",
        "        cm = confusion_matrix(Y_test, pred)\n",
        "        print(cm)\n",
        "        rm += [acc, pre, re, f1]\n",
        "\n",
        "    acc, pre, re, f1, acrc = avgMetric(rm)\n",
        "    print('\\nAverage: ', acc, pre, re, f1, acrc)"
      ]
    },
    {
      "cell_type": "markdown",
      "source": [
        "#XG Boost"
      ],
      "metadata": {
        "id": "mLKo-f4BPgwC"
      }
    },
    {
      "cell_type": "code",
      "source": [
        "from xgboost import XGBClassifier\n",
        "from sklearn import model_selection\n",
        "from sklearn.metrics import classification_report\n",
        "from sklearn.model_selection import StratifiedKFold\n",
        "from sklearn.metrics import confusion_matrix\n",
        "\n",
        "# import scikitplot as skplt\n",
        "import matplotlib.pyplot as plt\n",
        "import warnings\n",
        "warnings.filterwarnings(\"ignore\", category=DeprecationWarning) \n",
        "warnings.filterwarnings(\"ignore\", category=UserWarning) \n",
        "\n",
        "\n",
        "kfold = StratifiedKFold(n_splits=10, shuffle=True, random_state=42)\n",
        "i=0;\n",
        "xg = []\n",
        "size=32\n",
        "\n",
        "for train_index, test_index in kfold.split(data,y):\n",
        "        X_train_body, X_test_body = data[:,0][train_index], data[:,0][test_index]\n",
        "        y_train, y_test = y[train_index], y[test_index]\n",
        "        print(X_train_body.shape, X_test_body.shape)\n",
        "        print(y_train.shape, y_test.shape)\n",
        "\n",
        "\n",
        "        tm_train_results=topic_model_train(X_train_body,size)\n",
        "        tm_test_results=topic_prediction_vector(X_test_body,size)\n",
        "        X_train_df=create_TM_df(tm_train_results,size)\n",
        "        X_test_df=create_TM_df(tm_test_results,size)\n",
        "\n",
        "        X_train_others,X_test_others=data[:,1:][train_index], data[:,1:][test_index]\n",
        "\n",
        "        X_train_others_df=pd.DataFrame([[x for x in col] for col in X_train_others],columns=feature[1:])\n",
        "        X_test_others_df=pd.DataFrame([[x for x in col] for col in X_test_others],columns=feature[1:])\n",
        "\n",
        "        X_all_train_df=pd.concat([X_train_df,X_train_others_df], axis=1)\n",
        "        X_all_test_df=pd.concat([X_test_df,X_test_others_df], axis=1)\n",
        "\n",
        "\n",
        "\n",
        "        X_train=X_all_train_df.values\n",
        "        X_test=X_all_test_df.values\n",
        "\n",
        "        my_model = XGBClassifier(n_estimators=40,learning_rate=0.05, max_depth=8)\n",
        "        my_model.fit(X_train, y_train)\n",
        "        pred = my_model.predict(X_test)\n",
        "        pred_prob = my_model.predict_proba(X_test)\n",
        "        i=i+1\n",
        "        acc, pre, re, f1, acrc = permanceMetrics(y_test, pred, pred_prob)\n",
        "        print('Fold-',i,': ', acc, pre, re, f1, acrc)\n",
        "        xg += [acc, pre, re, f1, acrc]\n",
        "        cm = confusion_matrix(y_test, pred)\n",
        "        print(cm)\n",
        "acc, pre, re, f1, acrc = avgMetric(xg)\n",
        "print('\\nAverage: ', acc, pre, re, f1, acrc)\n"
      ],
      "metadata": {
        "id": "jqyE0fBHPmIg"
      },
      "execution_count": null,
      "outputs": []
    },
    {
      "cell_type": "markdown",
      "source": [
        "#ADA Boost\n"
      ],
      "metadata": {
        "id": "SCWe2yX8P-5G"
      }
    },
    {
      "cell_type": "code",
      "source": [
        "from sklearn.ensemble import AdaBoostClassifier\n",
        "from sklearn import model_selection\n",
        "from sklearn.metrics import classification_report\n",
        "from sklearn.ensemble import RandomForestClassifier as RF\n",
        "from sklearn.model_selection import StratifiedKFold\n",
        "from sklearn.metrics import confusion_matrix\n",
        "# import scikitplot as skplt\n",
        "import matplotlib.pyplot as plt\n",
        "import warnings\n",
        "warnings.filterwarnings(\"ignore\", category=DeprecationWarning) \n",
        "warnings.filterwarnings(\"ignore\", category=UserWarning) \n",
        "\n",
        "kfold = StratifiedKFold(n_splits=10, shuffle=True, random_state=42)\n",
        "i=0;\n",
        "xg = []\n",
        "size=32\n",
        "\n",
        "for train_index, test_index in kfold.split(data,y):\n",
        "        X_train_body, X_test_body = data[:,0][train_index], data[:,0][test_index]\n",
        "        y_train, y_test = y[train_index], y[test_index]\n",
        "        print(X_train_body.shape, X_test_body.shape)\n",
        "        print(y_train.shape, y_test.shape)\n",
        "\n",
        "\n",
        "        tm_train_results=topic_model_train(X_train_body,size)\n",
        "        tm_test_results=topic_prediction_vector(X_test_body,size)\n",
        "        X_train_df=create_TM_df(tm_train_results,size)\n",
        "        X_test_df=create_TM_df(tm_test_results,size)\n",
        "\n",
        "\n",
        "        \n",
        "        X_train_others,X_test_others=data[:,1:][train_index], data[:,1:][test_index]\n",
        "\n",
        "        X_train_others_df=pd.DataFrame([[x for x in col] for col in X_train_others],columns=feature[1:])\n",
        "        X_test_others_df=pd.DataFrame([[x for x in col] for col in X_test_others],columns=feature[1:])\n",
        "\n",
        "        X_all_train_df=pd.concat([X_train_df,X_train_others_df], axis=1)\n",
        "        X_all_test_df=pd.concat([X_test_df,X_test_others_df], axis=1)\n",
        "\n",
        "\n",
        "\n",
        "        X_train=X_all_train_df.values\n",
        "        X_test=X_all_test_df.values\n",
        "\n",
        "        my_model = AdaBoostClassifier(n_estimators=1000,learning_rate=0.05)\n",
        "        my_model.fit(X_train, y_train)\n",
        "        pred = my_model.predict(X_test)\n",
        "        pred_prob = my_model.predict_proba(X_test)\n",
        "        i=i+1\n",
        "        acc, pre, re, f1, acrc = permanceMetrics(y_test, pred, pred_prob)\n",
        "        print('Fold-',i,': ', acc, pre, re, f1, acrc)\n",
        "        xg += [acc, pre, re, f1, acrc]\n",
        "        cm = confusion_matrix(y_test, pred)\n",
        "        print(cm)\n",
        "acc, pre, re, f1, acrc = avgMetric(xg)\n",
        "print('\\nAverage: ', acc, pre, re, f1, acrc)"
      ],
      "metadata": {
        "id": "Rrg7CUHfQB55"
      },
      "execution_count": null,
      "outputs": []
    },
    {
      "cell_type": "markdown",
      "source": [
        "#SVM"
      ],
      "metadata": {
        "id": "VkbYLJ5Znh6-"
      }
    },
    {
      "cell_type": "code",
      "source": [
        "from sklearn import svm\n",
        "from sklearn import model_selection\n",
        "from sklearn.metrics import classification_report\n",
        "from sklearn.model_selection import StratifiedKFold\n",
        "from sklearn.metrics import confusion_matrix\n",
        "# import scikitplot as skplt\n",
        "import matplotlib.pyplot as plt\n",
        "import warnings\n",
        "warnings.filterwarnings(\"ignore\", category=DeprecationWarning) \n",
        "warnings.filterwarnings(\"ignore\", category=UserWarning) \n",
        "\n",
        "kfold = StratifiedKFold(n_splits=10, shuffle=True, random_state=42)\n",
        "i=0;\n",
        "xg = []\n",
        "size=32\n",
        "\n",
        "for train_index, test_index in kfold.split(data,y):\n",
        "        X_train_body, X_test_body = data[:,0][train_index], data[:,0][test_index]\n",
        "        y_train, y_test = y[train_index], y[test_index]\n",
        "        print(X_train_body.shape, X_test_body.shape)\n",
        "        print(y_train.shape, y_test.shape)\n",
        "\n",
        "\n",
        "        tm_train_results=topic_model_train(X_train_body,size)\n",
        "        tm_test_results=topic_prediction_vector(X_test_body,size)\n",
        "        X_train_df=create_TM_df(tm_train_results,size)\n",
        "        X_test_df=create_TM_df(tm_test_results,size)\n",
        "\n",
        "\n",
        "        \n",
        "        X_train_others,X_test_others=data[:,1:][train_index], data[:,1:][test_index]\n",
        "\n",
        "        X_train_others_df=pd.DataFrame([[x for x in col] for col in X_train_others],columns=feature[1:])\n",
        "        X_test_others_df=pd.DataFrame([[x for x in col] for col in X_test_others],columns=feature[1:])\n",
        "\n",
        "        X_all_train_df=pd.concat([X_train_df,X_train_others_df], axis=1)\n",
        "        X_all_test_df=pd.concat([X_test_df,X_test_others_df], axis=1)\n",
        "\n",
        "\n",
        "\n",
        "        X_train=X_all_train_df.values\n",
        "        X_test=X_all_test_df.values\n",
        "\n",
        "        my_model = svm.SVC(decision_function_shape='ovr',probability=True)\n",
        "        my_model.fit(X_train, y_train)\n",
        "        pred = my_model.predict(X_test)\n",
        "        pred_prob = my_model.predict_proba(X_test)\n",
        "        i=i+1\n",
        "        acc, pre, re, f1, acrc = permanceMetrics(y_test, pred, pred_prob)\n",
        "        print('Fold-',i,': ', acc, pre, re, f1, acrc)\n",
        "        xg += [acc, pre, re, f1, acrc]\n",
        "        cm = confusion_matrix(y_test, pred)\n",
        "        print(cm)\n",
        "acc, pre, re, f1, acrc = avgMetric(xg)\n",
        "print('\\nAverage: ', acc, pre, re, f1, acrc)"
      ],
      "metadata": {
        "id": "bH68Ok-knkDI"
      },
      "execution_count": null,
      "outputs": []
    }
  ],
  "metadata": {
    "colab": {
      "collapsed_sections": [
        "qOKowQL54r20",
        "CRoP-BFu4xUH",
        "0spvlWXl8bHx",
        "kxnKvMMa3j92"
      ],
      "name": "PostHoc TM.ipynb",
      "provenance": []
    },
    "kernelspec": {
      "display_name": "Python 3",
      "name": "python3"
    },
    "language_info": {
      "name": "python"
    }
  },
  "nbformat": 4,
  "nbformat_minor": 0
}