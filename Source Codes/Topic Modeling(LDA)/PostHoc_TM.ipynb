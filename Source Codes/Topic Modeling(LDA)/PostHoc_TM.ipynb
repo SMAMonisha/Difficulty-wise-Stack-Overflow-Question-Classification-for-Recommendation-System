{
  "cells": [
    {
      "cell_type": "markdown",
      "metadata": {
        "id": "qOKowQL54r20"
      },
      "source": [
        "###header"
      ]
    },
    {
      "cell_type": "code",
      "execution_count": null,
      "metadata": {
        "id": "pWknD6-CX9A1"
      },
      "outputs": [],
      "source": [
        "import warnings\n",
        "warnings.filterwarnings(\"ignore\", category=DeprecationWarning)"
      ]
    },
    {
      "cell_type": "code",
      "execution_count": null,
      "metadata": {
        "id": "jfNgOB_K1P-y"
      },
      "outputs": [],
      "source": [
        "import numpy as np\n",
        "import pandas as pd\n",
        "import matplotlib.pyplot as plt\n",
        "\n",
        "\n",
        "import nltk \n",
        "nltk.download('stopwords')"
      ]
    },
    {
      "cell_type": "code",
      "execution_count": null,
      "metadata": {
        "id": "mPDQ6q2pVr-y"
      },
      "outputs": [],
      "source": [
        "from google.colab import drive\n",
        "drive.mount(\"/content/drive\", force_remount=True)"
      ]
    },
    {
      "cell_type": "code",
      "execution_count": null,
      "metadata": {
        "id": "WL7TkC0dV1PV"
      },
      "outputs": [],
      "source": [
        "!pip install pyldavis"
      ]
    },
    {
      "cell_type": "code",
      "execution_count": null,
      "metadata": {
        "id": "PE4cMC6x3Zcp"
      },
      "outputs": [],
      "source": [
        "import pyLDAvis\n",
        "import pyLDAvis.gensim_models\n",
        "import gensim\n",
        "import gensim.corpora as corpora\n",
        "from gensim.utils import simple_preprocess\n",
        "from gensim.models import CoherenceModel\n",
        "import spacy"
      ]
    },
    {
      "cell_type": "code",
      "execution_count": null,
      "metadata": {
        "id": "896H4u7N3aup"
      },
      "outputs": [],
      "source": [
        "from google.colab import auth \n",
        "auth.authenticate_user() \n",
        " \n",
        "import gspread \n",
        "from google.auth import default \n",
        "creds, _ = default() \n",
        " \n",
        "gc = gspread.authorize(creds)"
      ]
    },
    {
      "cell_type": "code",
      "execution_count": null,
      "metadata": {
        "id": "BcbQpJYmtws3"
      },
      "outputs": [],
      "source": [
        "nlp = spacy.load('en_core_web_sm', disable=['parser', 'ner'])\n",
        "stop_words = nltk.corpus.stopwords.words('english')"
      ]
    },
    {
      "cell_type": "markdown",
      "metadata": {
        "id": "CRoP-BFu4xUH"
      },
      "source": [
        "### Preprocessing"
      ]
    },
    {
      "cell_type": "code",
      "execution_count": null,
      "metadata": {
        "id": "aXZqJn017gfY"
      },
      "outputs": [],
      "source": [
        "\n",
        "def process_words(texts, stop_words=stop_words, allowed_tags=['NOUN', 'ADJ', 'VERB', 'ADV']):\n",
        "    bigram = gensim.models.Phrases(texts, min_count=20, threshold=100)\n",
        "    trigram = gensim.models.Phrases(bigram[texts], threshold=100)\n",
        "    bigram_mod = gensim.models.phrases.Phraser(bigram)\n",
        "    trigram_mod = gensim.models.phrases.Phraser(trigram)\n",
        "    texts = [[word for word in simple_preprocess(str(doc), deacc=True, min_len=3) if word not in stop_words] for doc in texts]\n",
        "    texts = [bigram_mod[doc] for doc in texts]\n",
        "    texts = [trigram_mod[bigram_mod[doc]] for doc in texts]\n",
        "    \n",
        "    texts_out = []\n",
        "    for sent in texts:\n",
        "        doc = nlp(\" \".join(sent)) \n",
        "        texts_out.append([token.lemma_ for token in doc if token.pos_ in allowed_tags])\n",
        "    \n",
        "    texts_out = [[word for word in simple_preprocess(str(doc), deacc=True, min_len=3) if word not in stop_words] for doc in texts_out]    \n",
        "    # print(texts_out)\n",
        "    return texts_out"
      ]
    },
    {
      "cell_type": "code",
      "execution_count": null,
      "metadata": {
        "id": "6IHC0nP27krR"
      },
      "outputs": [],
      "source": [
        "def corpus_ready(data):\n",
        "    data_ready = process_words(data)\n",
        "    id2word = corpora.Dictionary(data_ready)\n",
        "    corpus = [id2word.doc2bow(text) for text in data_ready]\n",
        "    # print(corpus)\n",
        "    return corpus,id2word"
      ]
    },
    {
      "cell_type": "code",
      "execution_count": null,
      "metadata": {
        "id": "GKBQ5ftBaEx8"
      },
      "outputs": [],
      "source": [
        "!pip install --upgrade pandas==1.2\n",
        "from sklearn import preprocessing\n",
        "\n",
        "def frequency_counter(data):\n",
        "    dict_corpus = {}\n",
        "    dict_={}\n",
        "    totalfreq=0\n",
        "    corpus,id2word=corpus_ready(data)\n",
        "    for i in range(len(corpus)):\n",
        "        for idx, freq in corpus[i]:\n",
        "            totalfreq+=freq\n",
        "            if id2word[idx] in dict_corpus:\n",
        "                dict_corpus[id2word[idx]] += freq\n",
        "            else:\n",
        "                dict_corpus[id2word[idx]] = freq\n",
        "\n",
        "    dict_['words']=dict_corpus.keys() \n",
        "    dict_['freq']= dict_corpus.values()\n",
        "    dict_df = pd.DataFrame.from_dict(dict_)\n",
        "    x = dict_df['freq'].values.astype(float).reshape(-1,1) #returns a numpy array\n",
        "    min_max_scaler = preprocessing.MinMaxScaler()\n",
        "    x_scaled = min_max_scaler.fit_transform(x)\n",
        "    dict_df['freqNormalize']=x_scaled\n",
        "    extension = dict_df[dict_df.freq>50].words.values\n",
        "    stop_words.extend(extension)"
      ]
    },
    {
      "cell_type": "markdown",
      "metadata": {
        "id": "0spvlWXl8bHx"
      },
      "source": [
        "###generate LDA model"
      ]
    },
    {
      "cell_type": "code",
      "execution_count": null,
      "metadata": {
        "id": "RvfiHEI1d-H7"
      },
      "outputs": [],
      "source": [
        "def new_corpus(data,test=0):\n",
        "    if test==0:\n",
        "        frequency_counter(data)\n",
        "    data_ready = process_words(data)\n",
        "    id2word = corpora.Dictionary(data_ready)\n",
        "    id2word.filter_extremes(no_below=2, no_above=0.5)\n",
        "    corpus = [id2word.doc2bow(text) for text in data_ready]\n",
        "    return corpus,id2word"
      ]
    },
    {
      "cell_type": "code",
      "execution_count": null,
      "metadata": {
        "id": "uNNWXXFnBdgF"
      },
      "outputs": [],
      "source": [
        "def topic_model_train(X_train,topics):\n",
        "    global lda\n",
        "    corpus,id2word=new_corpus(X_train)\n",
        "    lda = gensim.models.ldamodel.LdaModel(corpus=corpus, num_topics=topics, id2word=id2word)\n",
        "    tm_train_results=lda[corpus]\n",
        "    return tm_train_results"
      ]
    },
    {
      "cell_type": "code",
      "execution_count": null,
      "metadata": {
        "id": "ZxUUf2sChnFm"
      },
      "outputs": [],
      "source": [
        "def topic_prediction_vector(X_test,topics):\n",
        "    corpus,_ =new_corpus(X_test,1)\n",
        "    tm_test_results = lda[corpus]\n",
        "    return tm_test_results"
      ]
    },
    {
      "cell_type": "code",
      "execution_count": null,
      "metadata": {
        "id": "APRNrZLBkCaw"
      },
      "outputs": [],
      "source": [
        "def create_TM_df(tm_results,topics):\n",
        "    rows, cols = (len(tm_results), topics)\n",
        "    feature=[]\n",
        "    for i in range(rows):\n",
        "        col = tm_results[i]\n",
        "        topic_exist=[topic[0] for topic in col]\n",
        "        for j in range(cols):\n",
        "            if j in topic_exist:\n",
        "                continue\n",
        "            else:\n",
        "                col.append((j,0))\n",
        "        col.sort()\n",
        "        feature.append(col)\n",
        "    columns = [\"Topic-\" + str(number) for number in range(1,topics+1)]\n",
        "    X_TM_df=pd.DataFrame([[y[1] for y in  x] for x in feature],columns=columns)\n",
        "    return X_TM_df"
      ]
    },
    {
      "cell_type": "markdown",
      "metadata": {
        "id": "kxnKvMMa3j92"
      },
      "source": [
        "###Metrics"
      ]
    },
    {
      "cell_type": "code",
      "execution_count": null,
      "metadata": {
        "id": "5oQwKBLvlhTW"
      },
      "outputs": [],
      "source": [
        "from sklearn.metrics import accuracy_score\n",
        "from sklearn.metrics import precision_score\n",
        "from sklearn.metrics import recall_score\n",
        "from sklearn.metrics import f1_score\n",
        "from sklearn.metrics import roc_auc_score\n",
        "\n",
        "def permanceMetrics(Y, pred, pred_prob):\n",
        "    acc = accuracy_score(Y,pred)\n",
        "    pre = precision_score(Y,pred,average='weighted')\n",
        "    re = recall_score(Y,pred, average='weighted')\n",
        "    f1 = f1_score(Y,pred, average='weighted')\n",
        "    acrc = roc_auc_score(Y,pred_prob,multi_class= 'ovr')\n",
        "    return acc, pre, re, f1, acrc\n",
        "\n",
        "def avgMetric(met):\n",
        "    res = np.array(met)\n",
        "    acc = res[::5].mean()\n",
        "    pre = res[1::5].mean()\n",
        "    re = res[2::5].mean()\n",
        "    f1 = res[3::5].mean()\n",
        "    acrc = res[4::5].mean()\n",
        "    return np.array([acc, pre, re, f1, acrc])"
      ]
    },
    {
      "cell_type": "markdown",
      "metadata": {
        "id": "MaXgUbyXnqv2"
      },
      "source": [
        "Post-hoc features"
      ]
    },
    {
      "cell_type": "code",
      "execution_count": null,
      "metadata": {
        "id": "EJn17OWojHZS"
      },
      "outputs": [],
      "source": [
        "import pandas as pd\n",
        "worksheet1 = gc.open('Final Dataset').get_worksheet(0)\n",
        "worksheet2 = gc.open('Final Dataset').get_worksheet(1)\n",
        "rows1 = worksheet1.get_all_values()\n",
        "rows2 = worksheet2.get_all_values()\n",
        "\n",
        "\n",
        "stackData1=pd.DataFrame.from_records(rows1,columns=rows1[0])\n",
        "stackData2=pd.DataFrame.from_records(rows2,columns=rows2[0])\n",
        "\n",
        "\n",
        "stackData1.drop(0, inplace=True, axis=0)\n",
        "stackData2.drop(0, inplace=True, axis=0)\n",
        "\n",
        "\n",
        "stackData=[stackData1, stackData2]\n",
        "stackData=pd.concat(stackData,ignore_index=True)\n",
        "\n",
        "stackData['ProcessedBody']=stackData['ProcessedBody']+stackData['Tags']+stackData['Title']\n",
        "\n",
        "feature=[\"ProcessedBody\", \"LOC\", \"QuestionLength\",\t\"Url+ImageCount\",\t\"Reputation\",\t\"user_badge_bronze_counts\",\t\"user_badge_gold_counts\",\t\"user_badge_silver_counts\",\t\"accept_rate\" , \"view_count\",\t\"answer_count\",\t\"favorite_count\",\t\"question_score\",\t\"up_vote_count\",\t\"First_answer_Interval\",\"Accept_answer_Interval\"]\n",
        "\n",
        "#---------count------------#\n",
        "stackData[\"view_count\"] = pd.to_numeric(stackData[\"view_count\"])\n",
        "stackData[\"answer_count\"] = pd.to_numeric(stackData[\"answer_count\"])\n",
        "stackData[\"favorite_count\"] = pd.to_numeric(stackData[\"favorite_count\"])\n",
        "stackData[\"question_score\"] = pd.to_numeric(stackData[\"question_score\"])\n",
        "stackData[\"up_vote_count\"] = pd.to_numeric(stackData[\"up_vote_count\"])\n",
        "\n",
        "#---------Data------------,\t\"First_answer_date\",\t\"Accepted_answer_date\"#\n",
        "stackData[\"creation_date\"] = pd.to_datetime(stackData[\"creation_date\"],unit='s')\n",
        "stackData[\"First_answer_date\"] = pd.to_datetime(stackData[\"First_answer_date\"],unit='s')\n",
        "stackData[\"Accepted_answer_date\"] = pd.to_datetime(stackData[\"Accepted_answer_date\"],unit='s')\n",
        "\n",
        "#----------Date Interval ------#\n",
        "stackData[\"First_answer_Interval\"]=(stackData[\"First_answer_date\"]-stackData[\"creation_date\"])/pd.Timedelta(minutes=1)\n",
        "stackData[\"Accept_answer_Interval\"]=(stackData[\"Accepted_answer_date\"]-stackData[\"creation_date\"])/pd.Timedelta(minutes=1)\n",
        "\n",
        "stackData[\"First_answer_Interval\"] = stackData[\"First_answer_Interval\"].apply(lambda x: -1 if x <= 0 else x)\n",
        "stackData[\"Accept_answer_Interval\"]=stackData[\"Accept_answer_Interval\"].apply(lambda x: -1 if x <= 0 else x)\n",
        "# print(stackData[feature])\n",
        "data=stackData[feature].values\n",
        "y=stackData.Label.values\n"
      ]
    },
    {
      "cell_type": "markdown",
      "source": [
        "#Random Forest"
      ],
      "metadata": {
        "id": "NgrQ3UcfPceQ"
      }
    },
    {
      "cell_type": "code",
      "execution_count": null,
      "metadata": {
        "id": "hAxUwcB2gQw2"
      },
      "outputs": [],
      "source": [
        "import warnings\n",
        "warnings.filterwarnings(\"ignore\", category=DeprecationWarning) \n",
        "warnings.filterwarnings(\"ignore\", category=UserWarning) \n",
        "\n",
        "from sklearn import model_selection\n",
        "from sklearn.metrics import classification_report\n",
        "from sklearn.model_selection import StratifiedKFold\n",
        "from sklearn.metrics import confusion_matrix\n",
        "from sklearn.ensemble import RandomForestClassifier as RF\n",
        "skf = StratifiedKFold(n_splits=10)\n",
        "\n",
        "i=0\n",
        "NoOfTopics=20\n",
        "rm = []\n",
        "for topic in range(NoOfTopics,NoOfTopics+20):\n",
        "    print(\"For total Number of Topics:\",topic)\n",
        "    print('Metrics :  Accuracy \\t\\tPrecision \\t\\tRecall \\t\\tF1-score \\tAUC_ROC')\n",
        "    i=0\n",
        "    for train_index, test_index in skf.split(data,y):\n",
        "        X_train_body, X_test_body = data[:,0][train_index], data[:,0][test_index]\n",
        "        Y_train, Y_test = y[train_index], y[test_index]\n",
        "\n",
        "        print(X_train_body.shape, X_test_body.shape)\n",
        "        print(Y_train.shape, Y_test.shape)\n",
        "\n",
        "\n",
        "        tm_train_results=topic_model_train(X_train_body,topic)\n",
        "        tm_test_results=topic_prediction_vector(X_test_body,topic)\n",
        "        X_train_df=create_TM_df(tm_train_results,topic)\n",
        "        X_test_df=create_TM_df(tm_test_results,topic)\n",
        "\n",
        "        X_train_others,X_test_others=data[:,1:][train_index], data[:,1:][test_index]\n",
        "\n",
        "        X_train_others_df=pd.DataFrame([[x for x in col] for col in X_train_others],columns=feature[1:])\n",
        "        X_test_others_df=pd.DataFrame([[x for x in col] for col in X_test_others],columns=feature[1:])\n",
        "\n",
        "        X_all_train_df=pd.concat([X_train_df,X_train_others_df], axis=1)\n",
        "        X_all_test_df=pd.concat([X_test_df,X_test_others_df], axis=1)\n",
        "\n",
        "\n",
        "\n",
        "        X_train=X_all_train_df.values\n",
        "        X_test=X_all_test_df.values\n",
        "\n",
        "\n",
        "        rf = RF(n_estimators = 15, max_depth = 8, criterion='entropy', random_state = 42)\n",
        "\n",
        "\n",
        "\n",
        "        rf.fit(X_train,Y_train)\n",
        "        pred = rf.predict(X_test)\n",
        "        pred_prob = rf.predict_proba(X_test)\n",
        "\n",
        "\n",
        "        i=i+1\n",
        "        acc, pre, re, f1, acrc = permanceMetrics(Y_test, pred, pred_prob)\n",
        "        print('Fold-',i,': ', acc, pre, re, f1, acrc)\n",
        "        cm = confusion_matrix(Y_test, pred)\n",
        "        print(cm)\n",
        "        rm += [acc, pre, re, f1]\n",
        "\n",
        "    acc, pre, re, f1, acrc = avgMetric(rm)\n",
        "    print('\\nAverage: ', acc, pre, re, f1, acrc)"
      ]
    },
    {
      "cell_type": "markdown",
      "source": [
        "#XG Boost"
      ],
      "metadata": {
        "id": "mLKo-f4BPgwC"
      }
    },
    {
      "cell_type": "code",
      "source": [
        "from xgboost import XGBClassifier\n",
        "from sklearn import model_selection\n",
        "from sklearn.metrics import classification_report\n",
        "from sklearn.model_selection import StratifiedKFold\n",
        "\n",
        "# import scikitplot as skplt\n",
        "import matplotlib.pyplot as plt\n",
        "import warnings\n",
        "warnings.filterwarnings(\"ignore\", category=DeprecationWarning) \n",
        "warnings.filterwarnings(\"ignore\", category=UserWarning) \n",
        "\n",
        "\n",
        "kfold = StratifiedKFold(n_splits=10, shuffle=True, random_state=42)\n",
        "i=0;\n",
        "xg = []\n",
        "size=32\n",
        "\n",
        "for train_index, test_index in kfold.split(data,y):\n",
        "        X_train_body, X_test_body = data[:,0][train_index], data[:,0][test_index]\n",
        "        y_train, y_test = y[train_index], y[test_index]\n",
        "        print(X_train_body.shape, X_test_body.shape)\n",
        "        print(y_train.shape, y_test.shape)\n",
        "\n",
        "\n",
        "        tm_train_results=topic_model_train(X_train_body,size)\n",
        "        tm_test_results=topic_prediction_vector(X_test_body,size)\n",
        "        X_train_df=create_TM_df(tm_train_results,size)\n",
        "        X_test_df=create_TM_df(tm_test_results,size)\n",
        "\n",
        "        X_train_others,X_test_others=data[:,1:][train_index], data[:,1:][test_index]\n",
        "\n",
        "        X_train_others_df=pd.DataFrame([[x for x in col] for col in X_train_others],columns=feature[1:])\n",
        "        X_test_others_df=pd.DataFrame([[x for x in col] for col in X_test_others],columns=feature[1:])\n",
        "\n",
        "        X_all_train_df=pd.concat([X_train_df,X_train_others_df], axis=1)\n",
        "        X_all_test_df=pd.concat([X_test_df,X_test_others_df], axis=1)\n",
        "\n",
        "\n",
        "\n",
        "        X_train=X_all_train_df.values\n",
        "        X_test=X_all_test_df.values\n",
        "\n",
        "        my_model = XGBClassifier(n_estimators=40,learning_rate=0.05, max_depth=8)\n",
        "        my_model.fit(X_train, y_train)\n",
        "        pred = my_model.predict(X_test)\n",
        "        pred_prob = my_model.predict_proba(X_test)\n",
        "        i=i+1\n",
        "        acc, pre, re, f1, acrc = permanceMetrics(y_test, pred, pred_prob)\n",
        "        print('Fold-',i,': ', acc, pre, re, f1, acrc)\n",
        "        xg += [acc, pre, re, f1, acrc]\n",
        "acc, pre, re, f1, acrc = avgMetric(xg)\n",
        "print('\\nAverage: ', acc, pre, re, f1, acrc)\n"
      ],
      "metadata": {
        "id": "jqyE0fBHPmIg"
      },
      "execution_count": null,
      "outputs": []
    },
    {
      "cell_type": "markdown",
      "source": [
        "#ADA Boost\n"
      ],
      "metadata": {
        "id": "SCWe2yX8P-5G"
      }
    },
    {
      "cell_type": "code",
      "source": [
        "from sklearn.ensemble import AdaBoostClassifier\n",
        "from sklearn import model_selection\n",
        "from sklearn.metrics import classification_report\n",
        "from sklearn.ensemble import RandomForestClassifier as RF\n",
        "from sklearn.model_selection import StratifiedKFold\n",
        "# import scikitplot as skplt\n",
        "import matplotlib.pyplot as plt\n",
        "import warnings\n",
        "warnings.filterwarnings(\"ignore\", category=DeprecationWarning) \n",
        "warnings.filterwarnings(\"ignore\", category=UserWarning) \n",
        "\n",
        "kfold = StratifiedKFold(n_splits=10, shuffle=True, random_state=42)\n",
        "i=0;\n",
        "xg = []\n",
        "size=32\n",
        "\n",
        "for train_index, test_index in kfold.split(data,y):\n",
        "        X_train_body, X_test_body = data[:,0][train_index], data[:,0][test_index]\n",
        "        y_train, y_test = y[train_index], y[test_index]\n",
        "        print(X_train_body.shape, X_test_body.shape)\n",
        "        print(y_train.shape, y_test.shape)\n",
        "\n",
        "\n",
        "        tm_train_results=topic_model_train(X_train_body,size)\n",
        "        tm_test_results=topic_prediction_vector(X_test_body,size)\n",
        "        X_train_df=create_TM_df(tm_train_results,size)\n",
        "        X_test_df=create_TM_df(tm_test_results,size)\n",
        "\n",
        "\n",
        "        \n",
        "        X_train_others,X_test_others=data[:,1:][train_index], data[:,1:][test_index]\n",
        "\n",
        "        X_train_others_df=pd.DataFrame([[x for x in col] for col in X_train_others],columns=feature[1:])\n",
        "        X_test_others_df=pd.DataFrame([[x for x in col] for col in X_test_others],columns=feature[1:])\n",
        "\n",
        "        X_all_train_df=pd.concat([X_train_df,X_train_others_df], axis=1)\n",
        "        X_all_test_df=pd.concat([X_test_df,X_test_others_df], axis=1)\n",
        "\n",
        "\n",
        "\n",
        "        X_train=X_all_train_df.values\n",
        "        X_test=X_all_test_df.values\n",
        "\n",
        "        my_model = AdaBoostClassifier(n_estimators=1000,learning_rate=0.05)\n",
        "        my_model.fit(X_train, y_train)\n",
        "        pred = my_model.predict(X_test)\n",
        "        pred_prob = my_model.predict_proba(X_test)\n",
        "        i=i+1\n",
        "        acc, pre, re, f1, acrc = permanceMetrics(y_test, pred, pred_prob)\n",
        "        print('Fold-',i,': ', acc, pre, re, f1, acrc)\n",
        "        xg += [acc, pre, re, f1, acrc]\n",
        "acc, pre, re, f1, acrc = avgMetric(xg)\n",
        "print('\\nAverage: ', acc, pre, re, f1, acrc)"
      ],
      "metadata": {
        "id": "Rrg7CUHfQB55"
      },
      "execution_count": null,
      "outputs": []
    },
    {
      "cell_type": "markdown",
      "source": [
        "#SVM"
      ],
      "metadata": {
        "id": "VkbYLJ5Znh6-"
      }
    },
    {
      "cell_type": "code",
      "source": [
        "from sklearn import svm\n",
        "from sklearn import model_selection\n",
        "from sklearn.metrics import classification_report\n",
        "from sklearn.model_selection import StratifiedKFold\n",
        "# import scikitplot as skplt\n",
        "import matplotlib.pyplot as plt\n",
        "import warnings\n",
        "warnings.filterwarnings(\"ignore\", category=DeprecationWarning) \n",
        "warnings.filterwarnings(\"ignore\", category=UserWarning) \n",
        "\n",
        "kfold = StratifiedKFold(n_splits=10, shuffle=True, random_state=42)\n",
        "i=0;\n",
        "xg = []\n",
        "size=32\n",
        "\n",
        "for train_index, test_index in kfold.split(data,y):\n",
        "        X_train_body, X_test_body = data[:,0][train_index], data[:,0][test_index]\n",
        "        y_train, y_test = y[train_index], y[test_index]\n",
        "        print(X_train_body.shape, X_test_body.shape)\n",
        "        print(y_train.shape, y_test.shape)\n",
        "\n",
        "\n",
        "        tm_train_results=topic_model_train(X_train_body,size)\n",
        "        tm_test_results=topic_prediction_vector(X_test_body,size)\n",
        "        X_train_df=create_TM_df(tm_train_results,size)\n",
        "        X_test_df=create_TM_df(tm_test_results,size)\n",
        "\n",
        "\n",
        "        \n",
        "        X_train_others,X_test_others=data[:,1:][train_index], data[:,1:][test_index]\n",
        "\n",
        "        X_train_others_df=pd.DataFrame([[x for x in col] for col in X_train_others],columns=feature[1:])\n",
        "        X_test_others_df=pd.DataFrame([[x for x in col] for col in X_test_others],columns=feature[1:])\n",
        "\n",
        "        X_all_train_df=pd.concat([X_train_df,X_train_others_df], axis=1)\n",
        "        X_all_test_df=pd.concat([X_test_df,X_test_others_df], axis=1)\n",
        "\n",
        "\n",
        "\n",
        "        X_train=X_all_train_df.values\n",
        "        X_test=X_all_test_df.values\n",
        "\n",
        "        my_model = svm.SVC(decision_function_shape='ovr',probability=True)\n",
        "        my_model.fit(X_train, y_train)\n",
        "        pred = my_model.predict(X_test)\n",
        "        pred_prob = my_model.predict_proba(X_test)\n",
        "        i=i+1\n",
        "        acc, pre, re, f1, acrc = permanceMetrics(y_test, pred, pred_prob)\n",
        "        print('Fold-',i,': ', acc, pre, re, f1, acrc)\n",
        "        xg += [acc, pre, re, f1, acrc]\n",
        "\n",
        "acc, pre, re, f1, acrc = avgMetric(xg)\n",
        "print('\\nAverage: ', acc, pre, re, f1, acrc)"
      ],
      "metadata": {
        "id": "bH68Ok-knkDI"
      },
      "execution_count": null,
      "outputs": []
    }
  ],
  "metadata": {
    "colab": {
      "collapsed_sections": [
        "qOKowQL54r20",
        "CRoP-BFu4xUH",
        "0spvlWXl8bHx",
        "kxnKvMMa3j92"
      ],
      "name": "PostHoc TM.ipynb",
      "provenance": []
    },
    "kernelspec": {
      "display_name": "Python 3",
      "name": "python3"
    },
    "language_info": {
      "name": "python"
    }
  },
  "nbformat": 4,
  "nbformat_minor": 0
}