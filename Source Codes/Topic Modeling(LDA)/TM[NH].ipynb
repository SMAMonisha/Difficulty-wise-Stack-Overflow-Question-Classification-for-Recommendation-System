{
  "cells": [
    {
      "cell_type": "markdown",
      "metadata": {
        "id": "qOKowQL54r20"
      },
      "source": [
        "#header"
      ]
    },
    {
      "cell_type": "code",
      "execution_count": null,
      "metadata": {
        "id": "pWknD6-CX9A1"
      },
      "outputs": [],
      "source": [
        "import warnings\n",
        "warnings.filterwarnings(\"ignore\", category=DeprecationWarning)"
      ]
    },
    {
      "cell_type": "code",
      "execution_count": null,
      "metadata": {
        "id": "WQYUSMLNaxuJ"
      },
      "outputs": [],
      "source": [
        "# !wget http://mallet.cs.umass.edu/dist/mallet-2.0.8.zip\n",
        "# !unzip mallet-2.0.8.zip\n",
        "# mallet_path = '/content/mallet-2.0.8/bin/mallet'"
      ]
    },
    {
      "cell_type": "code",
      "execution_count": null,
      "metadata": {
        "colab": {
          "base_uri": "https://localhost:8080/"
        },
        "id": "jfNgOB_K1P-y",
        "outputId": "948ec0ac-b9c9-47aa-9523-cb8826ee6ff7"
      },
      "outputs": [
        {
          "output_type": "stream",
          "name": "stdout",
          "text": [
            "[nltk_data] Downloading package stopwords to /root/nltk_data...\n",
            "[nltk_data]   Package stopwords is already up-to-date!\n"
          ]
        },
        {
          "output_type": "execute_result",
          "data": {
            "text/plain": [
              "True"
            ]
          },
          "metadata": {},
          "execution_count": 28
        }
      ],
      "source": [
        "import numpy as np\n",
        "import pandas as pd\n",
        "import matplotlib.pyplot as plt\n",
        "\n",
        "\n",
        "import nltk \n",
        "nltk.download('stopwords')"
      ]
    },
    {
      "cell_type": "code",
      "execution_count": null,
      "metadata": {
        "colab": {
          "base_uri": "https://localhost:8080/"
        },
        "id": "mPDQ6q2pVr-y",
        "outputId": "0da6e6b2-1754-48c0-e158-909cd3fa0d8b"
      },
      "outputs": [
        {
          "output_type": "stream",
          "name": "stdout",
          "text": [
            "Mounted at /content/drive\n"
          ]
        }
      ],
      "source": [
        "from google.colab import drive\n",
        "drive.mount(\"/content/drive\", force_remount=True)"
      ]
    },
    {
      "cell_type": "code",
      "execution_count": null,
      "metadata": {
        "id": "WL7TkC0dV1PV",
        "colab": {
          "base_uri": "https://localhost:8080/"
        },
        "outputId": "b09c2d7f-c597-42f7-8944-39fdd900cde8"
      },
      "outputs": [
        {
          "output_type": "stream",
          "name": "stdout",
          "text": [
            "Requirement already satisfied: pyldavis in /usr/local/lib/python3.7/dist-packages (3.3.1)\n",
            "Requirement already satisfied: sklearn in /usr/local/lib/python3.7/dist-packages (from pyldavis) (0.0)\n",
            "Requirement already satisfied: pandas>=1.2.0 in /usr/local/lib/python3.7/dist-packages (from pyldavis) (1.2.0)\n",
            "Requirement already satisfied: funcy in /usr/local/lib/python3.7/dist-packages (from pyldavis) (1.17)\n",
            "Requirement already satisfied: scikit-learn in /usr/local/lib/python3.7/dist-packages (from pyldavis) (1.0.2)\n",
            "Requirement already satisfied: numpy>=1.20.0 in /usr/local/lib/python3.7/dist-packages (from pyldavis) (1.21.6)\n",
            "Requirement already satisfied: numexpr in /usr/local/lib/python3.7/dist-packages (from pyldavis) (2.8.1)\n",
            "Requirement already satisfied: setuptools in /usr/local/lib/python3.7/dist-packages (from pyldavis) (57.4.0)\n",
            "Requirement already satisfied: jinja2 in /usr/local/lib/python3.7/dist-packages (from pyldavis) (2.11.3)\n",
            "Requirement already satisfied: gensim in /usr/local/lib/python3.7/dist-packages (from pyldavis) (3.6.0)\n",
            "Requirement already satisfied: joblib in /usr/local/lib/python3.7/dist-packages (from pyldavis) (1.1.0)\n",
            "Requirement already satisfied: future in /usr/local/lib/python3.7/dist-packages (from pyldavis) (0.16.0)\n",
            "Requirement already satisfied: scipy in /usr/local/lib/python3.7/dist-packages (from pyldavis) (1.4.1)\n",
            "Requirement already satisfied: pytz>=2017.3 in /usr/local/lib/python3.7/dist-packages (from pandas>=1.2.0->pyldavis) (2022.1)\n",
            "Requirement already satisfied: python-dateutil>=2.7.3 in /usr/local/lib/python3.7/dist-packages (from pandas>=1.2.0->pyldavis) (2.8.2)\n",
            "Requirement already satisfied: six>=1.5 in /usr/local/lib/python3.7/dist-packages (from python-dateutil>=2.7.3->pandas>=1.2.0->pyldavis) (1.15.0)\n",
            "Requirement already satisfied: smart-open>=1.2.1 in /usr/local/lib/python3.7/dist-packages (from gensim->pyldavis) (6.0.0)\n",
            "Requirement already satisfied: MarkupSafe>=0.23 in /usr/local/lib/python3.7/dist-packages (from jinja2->pyldavis) (2.0.1)\n",
            "Requirement already satisfied: packaging in /usr/local/lib/python3.7/dist-packages (from numexpr->pyldavis) (21.3)\n",
            "Requirement already satisfied: pyparsing!=3.0.5,>=2.0.2 in /usr/local/lib/python3.7/dist-packages (from packaging->numexpr->pyldavis) (3.0.8)\n",
            "Requirement already satisfied: threadpoolctl>=2.0.0 in /usr/local/lib/python3.7/dist-packages (from scikit-learn->pyldavis) (3.1.0)\n"
          ]
        }
      ],
      "source": [
        "!pip install pyldavis"
      ]
    },
    {
      "cell_type": "code",
      "execution_count": null,
      "metadata": {
        "id": "PE4cMC6x3Zcp"
      },
      "outputs": [],
      "source": [
        "import pyLDAvis\n",
        "import pyLDAvis.gensim_models\n",
        "import gensim\n",
        "import gensim.corpora as corpora\n",
        "from gensim.utils import simple_preprocess\n",
        "from gensim.models import CoherenceModel\n",
        "import spacy"
      ]
    },
    {
      "cell_type": "code",
      "execution_count": null,
      "metadata": {
        "id": "896H4u7N3aup"
      },
      "outputs": [],
      "source": [
        "from google.colab import auth \n",
        "auth.authenticate_user() \n",
        " \n",
        "import gspread \n",
        "from google.auth import default \n",
        "creds, _ = default() \n",
        " \n",
        "gc = gspread.authorize(creds)"
      ]
    },
    {
      "cell_type": "code",
      "execution_count": null,
      "metadata": {
        "id": "BcbQpJYmtws3"
      },
      "outputs": [],
      "source": [
        "nlp = spacy.load('en_core_web_sm', disable=['parser', 'ner'])\n",
        "stop_words = nltk.corpus.stopwords.words('english')"
      ]
    },
    {
      "cell_type": "markdown",
      "metadata": {
        "id": "CRoP-BFu4xUH"
      },
      "source": [
        "#main"
      ]
    },
    {
      "cell_type": "code",
      "execution_count": null,
      "metadata": {
        "id": "aXZqJn017gfY"
      },
      "outputs": [],
      "source": [
        "\n",
        "def process_words(texts, stop_words=stop_words, allowed_tags=['NOUN', 'ADJ', 'VERB', 'ADV']):\n",
        "    bigram = gensim.models.Phrases(texts, min_count=20, threshold=100)\n",
        "    trigram = gensim.models.Phrases(bigram[texts], threshold=100)\n",
        "    bigram_mod = gensim.models.phrases.Phraser(bigram)\n",
        "    trigram_mod = gensim.models.phrases.Phraser(trigram)\n",
        "    texts = [[word for word in simple_preprocess(str(doc), deacc=True, min_len=3) if word not in stop_words] for doc in texts]\n",
        "    texts = [bigram_mod[doc] for doc in texts]\n",
        "    texts = [trigram_mod[bigram_mod[doc]] for doc in texts]\n",
        "    \n",
        "    texts_out = []\n",
        "    for sent in texts:\n",
        "        doc = nlp(\" \".join(sent)) \n",
        "        texts_out.append([token.lemma_ for token in doc if token.pos_ in allowed_tags])\n",
        "    \n",
        "    texts_out = [[word for word in simple_preprocess(str(doc), deacc=True, min_len=3) if word not in stop_words] for doc in texts_out]    \n",
        "    # print(texts_out)\n",
        "    return texts_out"
      ]
    },
    {
      "cell_type": "code",
      "execution_count": null,
      "metadata": {
        "id": "6IHC0nP27krR"
      },
      "outputs": [],
      "source": [
        "def corpus_ready(data):\n",
        "    data_ready = process_words(data)\n",
        "    id2word = corpora.Dictionary(data_ready)\n",
        "    corpus = [id2word.doc2bow(text) for text in data_ready]\n",
        "    # print(corpus)\n",
        "    return corpus,id2word"
      ]
    },
    {
      "cell_type": "code",
      "execution_count": null,
      "metadata": {
        "id": "GKBQ5ftBaEx8"
      },
      "outputs": [],
      "source": [
        "!pip install --upgrade pandas==1.2\n",
        "from sklearn import preprocessing\n",
        "\n",
        "def frequency_counter(data):\n",
        "    dict_corpus = {}\n",
        "    dict_={}\n",
        "    totalfreq=0\n",
        "    corpus,id2word=corpus_ready(data)\n",
        "    for i in range(len(corpus)):\n",
        "        for idx, freq in corpus[i]:\n",
        "            totalfreq+=freq\n",
        "            if id2word[idx] in dict_corpus:\n",
        "                dict_corpus[id2word[idx]] += freq\n",
        "            else:\n",
        "                dict_corpus[id2word[idx]] = freq\n",
        "\n",
        "    dict_['words']=dict_corpus.keys() \n",
        "    dict_['freq']= dict_corpus.values()\n",
        "    dict_df = pd.DataFrame.from_dict(dict_)\n",
        "    x = dict_df['freq'].values.astype(float).reshape(-1,1) #returns a numpy array\n",
        "    min_max_scaler = preprocessing.MinMaxScaler()\n",
        "    x_scaled = min_max_scaler.fit_transform(x)\n",
        "    dict_df['freqNormalize']=x_scaled\n",
        "    extension = dict_df[dict_df.freq>50].words.values\n",
        "    stop_words.extend(extension)\n",
        "    # print(stop_words)"
      ]
    },
    {
      "cell_type": "code",
      "execution_count": null,
      "metadata": {
        "id": "WrTATN1saKaS"
      },
      "outputs": [],
      "source": [
        "# !pip install --upgrade pandas==1.2"
      ]
    },
    {
      "cell_type": "markdown",
      "metadata": {
        "id": "0spvlWXl8bHx"
      },
      "source": [
        "#generate TM"
      ]
    },
    {
      "cell_type": "code",
      "execution_count": null,
      "metadata": {
        "id": "RvfiHEI1d-H7"
      },
      "outputs": [],
      "source": [
        "def new_corpus(data,test=0):\n",
        "    if test==0:\n",
        "        frequency_counter(data)\n",
        "    data_ready = process_words(data)\n",
        "    id2word = corpora.Dictionary(data_ready)\n",
        "    id2word.filter_extremes(no_below=2, no_above=0.5)\n",
        "    corpus = [id2word.doc2bow(text) for text in data_ready]\n",
        "    # print(corpus)\n",
        "    return corpus,id2word"
      ]
    },
    {
      "cell_type": "code",
      "execution_count": null,
      "metadata": {
        "id": "uNNWXXFnBdgF"
      },
      "outputs": [],
      "source": [
        "def topic_model_train(X_train,topics):\n",
        "    global lda\n",
        "    corpus,id2word=new_corpus(X_train)\n",
        "    lda = gensim.models.ldamodel.LdaModel(corpus=corpus, num_topics=topics, id2word=id2word)\n",
        "    tm_train_results=lda[corpus]\n",
        "    # print(tm_train_results)\n",
        "    return tm_train_results"
      ]
    },
    {
      "cell_type": "code",
      "execution_count": null,
      "metadata": {
        "id": "ZxUUf2sChnFm"
      },
      "outputs": [],
      "source": [
        "def topic_prediction_vector(X_test,topics):\n",
        "    corpus,_ =new_corpus(X_test,1)\n",
        "    tm_test_results = lda[corpus]\n",
        "    # print(tm_test_results)\n",
        "    return tm_test_results"
      ]
    },
    {
      "cell_type": "code",
      "execution_count": null,
      "metadata": {
        "id": "APRNrZLBkCaw"
      },
      "outputs": [],
      "source": [
        "def create_TM_df(tm_results,topics):\n",
        "    rows, cols = (len(tm_results), topics)\n",
        "    feature=[]\n",
        "    for i in range(rows):\n",
        "        col = tm_results[i]\n",
        "        topic_exist=[topic[0] for topic in col]\n",
        "        for j in range(cols):\n",
        "            if j in topic_exist:\n",
        "                continue\n",
        "            else:\n",
        "                col.append((j,0))\n",
        "        col.sort()\n",
        "        feature.append(col)\n",
        "    columns = [\"Topic-\" + str(number) for number in range(1,topics+1)]\n",
        "    X_TM_df=pd.DataFrame([[y[1] for y in  x] for x in feature],columns=columns)\n",
        "    return X_TM_df"
      ]
    },
    {
      "cell_type": "markdown",
      "metadata": {
        "id": "kxnKvMMa3j92"
      },
      "source": [
        "#Metrics"
      ]
    },
    {
      "cell_type": "code",
      "execution_count": null,
      "metadata": {
        "id": "5oQwKBLvlhTW"
      },
      "outputs": [],
      "source": [
        "from sklearn.metrics import accuracy_score\n",
        "from sklearn.metrics import precision_score\n",
        "from sklearn.metrics import recall_score\n",
        "from sklearn.metrics import f1_score\n",
        "from sklearn.metrics import roc_auc_score\n",
        "\n",
        "def permanceMetrics(Y, pred, pred_prob):\n",
        "    acc = accuracy_score(Y,pred)\n",
        "    pre = precision_score(Y,pred,average='weighted')\n",
        "    re = recall_score(Y,pred, average='weighted')\n",
        "    f1 = f1_score(Y,pred, average='weighted')\n",
        "    acrc = roc_auc_score(Y,pred_prob,multi_class= 'ovr')\n",
        "    return acc, pre, re, f1, acrc\n",
        "\n",
        "def avgMetric(met):\n",
        "    res = np.array(met)\n",
        "    acc = res[::5].mean()\n",
        "    pre = res[1::5].mean()\n",
        "    re = res[2::5].mean()\n",
        "    f1 = res[3::5].mean()\n",
        "    acrc = res[4::5].mean()\n",
        "    return np.array([acc, pre, re, f1, acrc])"
      ]
    },
    {
      "cell_type": "code",
      "execution_count": null,
      "metadata": {
        "colab": {
          "base_uri": "https://localhost:8080/"
        },
        "id": "LSGQanx4KT65",
        "outputId": "05583f1c-089a-4818-8186-f9e2dc16b96a"
      },
      "outputs": [
        {
          "output_type": "stream",
          "name": "stdout",
          "text": [
            "Requirement already satisfied: imblearn in /usr/local/lib/python3.7/dist-packages (0.0)\n",
            "Requirement already satisfied: imbalanced-learn in /usr/local/lib/python3.7/dist-packages (from imblearn) (0.8.1)\n",
            "Requirement already satisfied: joblib>=0.11 in /usr/local/lib/python3.7/dist-packages (from imbalanced-learn->imblearn) (1.1.0)\n",
            "Requirement already satisfied: numpy>=1.13.3 in /usr/local/lib/python3.7/dist-packages (from imbalanced-learn->imblearn) (1.21.6)\n",
            "Requirement already satisfied: scikit-learn>=0.24 in /usr/local/lib/python3.7/dist-packages (from imbalanced-learn->imblearn) (1.0.2)\n",
            "Requirement already satisfied: scipy>=0.19.1 in /usr/local/lib/python3.7/dist-packages (from imbalanced-learn->imblearn) (1.4.1)\n",
            "Requirement already satisfied: threadpoolctl>=2.0.0 in /usr/local/lib/python3.7/dist-packages (from scikit-learn>=0.24->imbalanced-learn->imblearn) (3.1.0)\n"
          ]
        }
      ],
      "source": [
        "pip install imblearn"
      ]
    },
    {
      "cell_type": "markdown",
      "metadata": {
        "id": "MaXgUbyXnqv2"
      },
      "source": [
        "#New Version"
      ]
    },
    {
      "cell_type": "code",
      "execution_count": null,
      "metadata": {
        "id": "EJn17OWojHZS"
      },
      "outputs": [],
      "source": [
        "import pandas as pd\n",
        "worksheet1 = gc.open('Final Dataset').get_worksheet(1)\n",
        "# worksheet2 = gc.open('Final Dataset').get_worksheet(1)\n",
        "rows1 = worksheet1.get_all_values()\n",
        "# rows2 = worksheet2.get_all_values()\n",
        "\n",
        "\n",
        "stackData=pd.DataFrame.from_records(rows1,columns=rows1[0])\n",
        "# stackData2=pd.DataFrame.from_records(rows2,columns=rows2[0])\n",
        "stackData.drop(0, inplace=True, axis=0)\n",
        "# stackData2.drop(0, inplace=True, axis=0)\n",
        "# stackData=[stackData1, stackData2]\n",
        "# stackData=pd.concat(stackData,ignore_index=True)\n",
        "stackData['ProcessedBody']=stackData['ProcessedBody']+stackData['Tags']+stackData['Title']\n",
        "\n",
        "feature=[\"ProcessedBody\", \"LOC\", \"QuestionLength\",\t\"Url+ImageCount\"]\n",
        "data=stackData[feature].values\n",
        "y=stackData[\"Label\"].values\n",
        "\n",
        "print(data.shape, y.shape)"
      ]
    },
    {
      "cell_type": "markdown",
      "source": [
        "#Random Forest"
      ],
      "metadata": {
        "id": "3ozHaimLMNoz"
      }
    },
    {
      "cell_type": "code",
      "execution_count": null,
      "metadata": {
        "id": "hAxUwcB2gQw2"
      },
      "outputs": [],
      "source": [
        "import warnings\n",
        "warnings.filterwarnings(\"ignore\", category=DeprecationWarning) \n",
        "warnings.filterwarnings(\"ignore\", category=UserWarning) \n",
        "\n",
        "from sklearn import model_selection\n",
        "from sklearn.metrics import classification_report\n",
        "from sklearn.model_selection import StratifiedKFold\n",
        "from sklearn.metrics import confusion_matrix\n",
        "from sklearn.ensemble import RandomForestClassifier as RF\n",
        "skf = StratifiedKFold(n_splits=10)\n",
        "\n",
        "i=0\n",
        "NoOfTopics=36\n",
        "rm = []\n",
        "for topic in range(NoOfTopics,NoOfTopics+1):\n",
        "    print(\"For total Number of Topics:\",topic)\n",
        "    print('Metrics :  Accuracy \\t\\tPrecision \\t\\tRecall \\t\\tF1-score \\tAUC_ROC')\n",
        "    i=0\n",
        "    for train_index, test_index in skf.split(data,y):\n",
        "        X_train_body, X_test_body = data[:,0][train_index], data[:,0][test_index]\n",
        "        Y_train, Y_test = y[train_index], y[test_index]\n",
        "\n",
        "        print(X_train_body.shape, X_test_body.shape)\n",
        "        print(Y_train.shape, Y_test.shape)\n",
        "\n",
        "\n",
        "        tm_train_results=topic_model_train(X_train_body,topic)\n",
        "        tm_test_results=topic_prediction_vector(X_test_body,topic)\n",
        "        X_train_df=create_TM_df(tm_train_results,topic)\n",
        "        X_test_df=create_TM_df(tm_test_results,topic)\n",
        "\n",
        "\n",
        "        \n",
        "        X_train_others,X_test_others=data[:,1:4][train_index], data[:,1:4][test_index]\n",
        "\n",
        "        X_train_others_df=pd.DataFrame([[x for x in col] for col in X_train_others],columns=feature[1:4])\n",
        "        X_test_others_df=pd.DataFrame([[x for x in col] for col in X_test_others],columns=feature[1:4])\n",
        "\n",
        "        X_all_train_df=pd.concat([X_train_df,X_train_others_df], axis=1)\n",
        "        X_all_test_df=pd.concat([X_test_df,X_test_others_df], axis=1)\n",
        "\n",
        "\n",
        "\n",
        "        X_train=X_all_train_df.values\n",
        "        X_test=X_all_test_df.values\n",
        "\n",
        "\n",
        "        rf = RF(n_estimators = 15, max_depth = 8, criterion='entropy', random_state = 42)\n",
        "\n",
        "\n",
        "\n",
        "        rf.fit(X_train,Y_train)\n",
        "        pred = rf.predict(X_test)\n",
        "        pred_prob = rf.predict_proba(X_test)\n",
        "\n",
        "\n",
        "        i=i+1\n",
        "        acc, pre, re, f1, acrc = permanceMetrics(Y_test, pred, pred_prob)\n",
        "        print('Fold-',i,': ', acc, pre, re, f1, acrc)\n",
        "        cm = confusion_matrix(Y_test, pred)\n",
        "        print(len(Y_test))\n",
        "        print(cm)\n",
        "        rm += [acc, pre, re, f1]\n",
        "\n",
        "    acc, pre, re, f1, acrc = avgMetric(rm)\n",
        "    print('\\nAverage: ', acc, pre, re, f1, acrc)"
      ]
    },
    {
      "cell_type": "code",
      "execution_count": null,
      "metadata": {
        "id": "xZqJd2zE1IJy"
      },
      "outputs": [],
      "source": [
        "print(Y_test)\n",
        "print(len(Y_test))\n",
        "print(pred)"
      ]
    },
    {
      "cell_type": "code",
      "execution_count": null,
      "metadata": {
        "id": "PEvsvue4n8AO"
      },
      "outputs": [],
      "source": [
        "lda.print_topics(num_topics=10)"
      ]
    },
    {
      "cell_type": "markdown",
      "source": [
        "#XG Boost"
      ],
      "metadata": {
        "id": "RFN1q62CMTz0"
      }
    },
    {
      "cell_type": "code",
      "source": [
        "from xgboost import XGBClassifier\n",
        "from sklearn import model_selection\n",
        "from sklearn.metrics import classification_report\n",
        "from sklearn.model_selection import StratifiedKFold\n",
        "from sklearn.metrics import confusion_matrix\n",
        "\n",
        "# import scikitplot as skplt\n",
        "import matplotlib.pyplot as plt\n",
        "import warnings\n",
        "warnings.filterwarnings(\"ignore\", category=DeprecationWarning) \n",
        "warnings.filterwarnings(\"ignore\", category=UserWarning) \n",
        "\n",
        "\n",
        "kfold = StratifiedKFold(n_splits=10, shuffle=True, random_state=42)\n",
        "i=0;\n",
        "xg = []\n",
        "size=20\n",
        "\n",
        "for train_index, test_index in kfold.split(data,y):\n",
        "        X_train_body, X_test_body = data[:,0][train_index], data[:,0][test_index]\n",
        "        y_train, y_test = y[train_index], y[test_index]\n",
        "        print(X_train_body.shape, X_test_body.shape)\n",
        "        print(Y_train.shape, Y_test.shape)\n",
        "\n",
        "\n",
        "        tm_train_results=topic_model_train(X_train_body,topic)\n",
        "        tm_test_results=topic_prediction_vector(X_test_body,topic)\n",
        "        X_train_df=create_TM_df(tm_train_results,topic)\n",
        "        X_test_df=create_TM_df(tm_test_results,topic)\n",
        "\n",
        "\n",
        "        \n",
        "        X_train_others,X_test_others=data[:,1:4][train_index], data[:,1:4][test_index]\n",
        "\n",
        "        X_train_others_df=pd.DataFrame([[x for x in col] for col in X_train_others],columns=feature[1:4])\n",
        "        X_test_others_df=pd.DataFrame([[x for x in col] for col in X_test_others],columns=feature[1:4])\n",
        "\n",
        "        X_all_train_df=pd.concat([X_train_df,X_train_others_df], axis=1)\n",
        "        X_all_test_df=pd.concat([X_test_df,X_test_others_df], axis=1)\n",
        "\n",
        "\n",
        "\n",
        "        X_train=X_all_train_df.values\n",
        "        X_test=X_all_test_df.values\n",
        "\n",
        "        my_model = XGBClassifier(n_estimators=40,learning_rate=0.05, max_depth=8)\n",
        "        my_model.fit(X_train, y_train)\n",
        "        pred = my_model.predict(X_test)\n",
        "        pred_prob = my_model.predict_proba(X_test)\n",
        "        i=i+1\n",
        "        acc, pre, re, f1, acrc = permanceMetrics(y_test, pred, pred_prob)\n",
        "        print('Fold-',i,': ', acc, pre, re, f1, acrc)\n",
        "        xg += [acc, pre, re, f1, acrc]\n",
        "        cm = confusion_matrix(y_test, pred)\n",
        "        print(cm)\n",
        "acc, pre, re, f1, acrc = avgMetric(xg)\n",
        "print('\\nAverage: ', acc, pre, re, f1, acrc)\n"
      ],
      "metadata": {
        "id": "JlvmuEg-MKZm"
      },
      "execution_count": null,
      "outputs": []
    },
    {
      "cell_type": "markdown",
      "source": [
        "#Ada Boost"
      ],
      "metadata": {
        "id": "1rNulkCYMf8k"
      }
    },
    {
      "cell_type": "code",
      "source": [
        "from sklearn.ensemble import AdaBoostClassifier\n",
        "from sklearn import model_selection\n",
        "from sklearn.metrics import classification_report\n",
        "from sklearn.ensemble import RandomForestClassifier as RF\n",
        "from sklearn.model_selection import StratifiedKFold\n",
        "from sklearn.metrics import confusion_matrix\n",
        "# import scikitplot as skplt\n",
        "import matplotlib.pyplot as plt\n",
        "import warnings\n",
        "warnings.filterwarnings(\"ignore\", category=DeprecationWarning) \n",
        "warnings.filterwarnings(\"ignore\", category=UserWarning) \n",
        "\n",
        "kfold = StratifiedKFold(n_splits=10, shuffle=True, random_state=42)\n",
        "i=0;\n",
        "xg = []\n",
        "size=20\n",
        "\n",
        "for train_index, test_index in kfold.split(data,y):\n",
        "        X_train_body, X_test_body = data[:,0][train_index], data[:,0][test_index]\n",
        "        y_train, y_test = y[train_index], y[test_index]\n",
        "        print(X_train_body.shape, X_test_body.shape)\n",
        "        print(Y_train.shape, Y_test.shape)\n",
        "\n",
        "\n",
        "        tm_train_results=topic_model_train(X_train_body,topic)\n",
        "        tm_test_results=topic_prediction_vector(X_test_body,topic)\n",
        "        X_train_df=create_TM_df(tm_train_results,topic)\n",
        "        X_test_df=create_TM_df(tm_test_results,topic)\n",
        "\n",
        "\n",
        "        \n",
        "        X_train_others,X_test_others=data[:,1:4][train_index], data[:,1:4][test_index]\n",
        "\n",
        "        X_train_others_df=pd.DataFrame([[x for x in col] for col in X_train_others],columns=feature[1:4])\n",
        "        X_test_others_df=pd.DataFrame([[x for x in col] for col in X_test_others],columns=feature[1:4])\n",
        "\n",
        "        X_all_train_df=pd.concat([X_train_df,X_train_others_df], axis=1)\n",
        "        X_all_test_df=pd.concat([X_test_df,X_test_others_df], axis=1)\n",
        "\n",
        "\n",
        "\n",
        "        X_train=X_all_train_df.values\n",
        "        X_test=X_all_test_df.values\n",
        "\n",
        "        my_model = AdaBoostClassifier(n_estimators=1000,learning_rate=0.05)\n",
        "        my_model.fit(X_train, y_train)\n",
        "        pred = my_model.predict(X_test)\n",
        "        pred_prob = my_model.predict_proba(X_test)\n",
        "        i=i+1\n",
        "        acc, pre, re, f1, acrc = permanceMetrics(y_test, pred, pred_prob)\n",
        "        print('Fold-',i,': ', acc, pre, re, f1, acrc)\n",
        "        xg += [acc, pre, re, f1, acrc]\n",
        "        cm = confusion_matrix(y_test, pred)\n",
        "        print(cm)\n",
        "acc, pre, re, f1, acrc = avgMetric(xg)\n",
        "print('\\nAverage: ', acc, pre, re, f1, acrc)"
      ],
      "metadata": {
        "id": "wpVmkgUHMXne"
      },
      "execution_count": null,
      "outputs": []
    },
    {
      "cell_type": "markdown",
      "source": [
        "#SVM"
      ],
      "metadata": {
        "id": "oBaJoKcblnKk"
      }
    },
    {
      "cell_type": "code",
      "source": [
        "from sklearn import svm\n",
        "from sklearn import model_selection\n",
        "from sklearn.metrics import classification_report\n",
        "from sklearn.model_selection import StratifiedKFold\n",
        "from sklearn.metrics import confusion_matrix\n",
        "# import scikitplot as skplt\n",
        "import matplotlib.pyplot as plt\n",
        "import warnings\n",
        "warnings.filterwarnings(\"ignore\", category=DeprecationWarning) \n",
        "warnings.filterwarnings(\"ignore\", category=UserWarning) \n",
        "\n",
        "kfold = StratifiedKFold(n_splits=10, shuffle=True, random_state=42)\n",
        "i=0;\n",
        "xg = []\n",
        "size=20\n",
        "\n",
        "for train_index, test_index in kfold.split(data,y):\n",
        "        X_train_body, X_test_body = data[:,0][train_index], data[:,0][test_index]\n",
        "        y_train, y_test = y[train_index], y[test_index]\n",
        "        print(X_train_body.shape, X_test_body.shape)\n",
        "        print(Y_train.shape, Y_test.shape)\n",
        "\n",
        "\n",
        "        tm_train_results=topic_model_train(X_train_body,topic)\n",
        "        tm_test_results=topic_prediction_vector(X_test_body,topic)\n",
        "        X_train_df=create_TM_df(tm_train_results,topic)\n",
        "        X_test_df=create_TM_df(tm_test_results,topic)\n",
        "\n",
        "\n",
        "        \n",
        "        X_train_others,X_test_others=data[:,1:4][train_index], data[:,1:4][test_index]\n",
        "\n",
        "        X_train_others_df=pd.DataFrame([[x for x in col] for col in X_train_others],columns=feature[1:4])\n",
        "        X_test_others_df=pd.DataFrame([[x for x in col] for col in X_test_others],columns=feature[1:4])\n",
        "\n",
        "        X_all_train_df=pd.concat([X_train_df,X_train_others_df], axis=1)\n",
        "        X_all_test_df=pd.concat([X_test_df,X_test_others_df], axis=1)\n",
        "\n",
        "\n",
        "\n",
        "        X_train=X_all_train_df.values\n",
        "        X_test=X_all_test_df.values\n",
        "\n",
        "        my_model = svm.SVC(decision_function_shape='ovr',probability=True)\n",
        "        my_model.fit(X_train, y_train)\n",
        "        pred = my_model.predict(X_test)\n",
        "        pred_prob = my_model.predict_proba(X_test)\n",
        "        i=i+1\n",
        "        acc, pre, re, f1, acrc = permanceMetrics(y_test, pred, pred_prob)\n",
        "        print('Fold-',i,': ', acc, pre, re, f1, acrc)\n",
        "        xg += [acc, pre, re, f1, acrc]\n",
        "        cm = confusion_matrix(y_test, pred)\n",
        "        print(cm)\n",
        "acc, pre, re, f1, acrc = avgMetric(xg)\n",
        "print('\\nAverage: ', acc, pre, re, f1, acrc)"
      ],
      "metadata": {
        "id": "KNVQZpHFlqBa"
      },
      "execution_count": null,
      "outputs": []
    }
  ],
  "metadata": {
    "colab": {
      "collapsed_sections": [
        "qOKowQL54r20",
        "kxnKvMMa3j92",
        "PZmkKRbGnc0O",
        "vUoHjyqkAm13"
      ],
      "name": "TM[NH].ipynb",
      "provenance": []
    },
    "kernelspec": {
      "display_name": "Python 3",
      "name": "python3"
    },
    "language_info": {
      "name": "python"
    }
  },
  "nbformat": 4,
  "nbformat_minor": 0
}