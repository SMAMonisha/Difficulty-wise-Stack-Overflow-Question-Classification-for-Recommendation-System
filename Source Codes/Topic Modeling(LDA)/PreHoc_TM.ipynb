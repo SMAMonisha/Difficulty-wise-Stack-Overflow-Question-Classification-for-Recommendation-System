{
  "cells": [
    {
      "cell_type": "markdown",
      "metadata": {
        "id": "qOKowQL54r20"
      },
      "source": [
        "#header"
      ]
    },
    {
      "cell_type": "code",
      "execution_count": null,
      "metadata": {
        "id": "pWknD6-CX9A1"
      },
      "outputs": [],
      "source": [
        "import warnings\n",
        "warnings.filterwarnings(\"ignore\", category=DeprecationWarning)"
      ]
    },
    {
      "cell_type": "code",
      "execution_count": null,
      "metadata": {
        "colab": {
          "base_uri": "https://localhost:8080/"
        },
        "id": "jfNgOB_K1P-y",
        "outputId": "bd119ea5-2977-4fb8-f5b4-8f127dea8a77"
      },
      "outputs": [
        {
          "output_type": "stream",
          "name": "stdout",
          "text": [
            "[nltk_data] Downloading package stopwords to /root/nltk_data...\n",
            "[nltk_data]   Unzipping corpora/stopwords.zip.\n"
          ]
        },
        {
          "output_type": "execute_result",
          "data": {
            "text/plain": [
              "True"
            ]
          },
          "metadata": {},
          "execution_count": 2
        }
      ],
      "source": [
        "import numpy as np\n",
        "import pandas as pd\n",
        "import matplotlib.pyplot as plt\n",
        "\n",
        "\n",
        "import nltk \n",
        "nltk.download('stopwords')"
      ]
    },
    {
      "cell_type": "code",
      "execution_count": null,
      "metadata": {
        "id": "mPDQ6q2pVr-y",
        "colab": {
          "base_uri": "https://localhost:8080/"
        },
        "outputId": "9c0b6078-cc34-4c63-ffcb-b19e250368b2"
      },
      "outputs": [
        {
          "output_type": "stream",
          "name": "stdout",
          "text": [
            "Mounted at /content/drive\n"
          ]
        }
      ],
      "source": [
        "from google.colab import drive\n",
        "drive.mount(\"/content/drive\", force_remount=True)"
      ]
    },
    {
      "cell_type": "code",
      "execution_count": null,
      "metadata": {
        "id": "WL7TkC0dV1PV",
        "colab": {
          "base_uri": "https://localhost:8080/"
        },
        "outputId": "488d25b3-7f93-4fc8-bc06-5bbf70a5a822"
      },
      "outputs": [
        {
          "output_type": "stream",
          "name": "stdout",
          "text": [
            "Collecting pyldavis\n",
            "  Downloading pyLDAvis-3.3.1.tar.gz (1.7 MB)\n",
            "\u001b[?25l\r\u001b[K     |▏                               | 10 kB 18.4 MB/s eta 0:00:01\r\u001b[K     |▍                               | 20 kB 23.5 MB/s eta 0:00:01\r\u001b[K     |▋                               | 30 kB 20.3 MB/s eta 0:00:01\r\u001b[K     |▉                               | 40 kB 16.9 MB/s eta 0:00:01\r\u001b[K     |█                               | 51 kB 7.9 MB/s eta 0:00:01\r\u001b[K     |█▏                              | 61 kB 9.2 MB/s eta 0:00:01\r\u001b[K     |█▍                              | 71 kB 9.8 MB/s eta 0:00:01\r\u001b[K     |█▋                              | 81 kB 9.9 MB/s eta 0:00:01\r\u001b[K     |█▉                              | 92 kB 10.9 MB/s eta 0:00:01\r\u001b[K     |██                              | 102 kB 9.3 MB/s eta 0:00:01\r\u001b[K     |██▏                             | 112 kB 9.3 MB/s eta 0:00:01\r\u001b[K     |██▍                             | 122 kB 9.3 MB/s eta 0:00:01\r\u001b[K     |██▋                             | 133 kB 9.3 MB/s eta 0:00:01\r\u001b[K     |██▊                             | 143 kB 9.3 MB/s eta 0:00:01\r\u001b[K     |███                             | 153 kB 9.3 MB/s eta 0:00:01\r\u001b[K     |███▏                            | 163 kB 9.3 MB/s eta 0:00:01\r\u001b[K     |███▍                            | 174 kB 9.3 MB/s eta 0:00:01\r\u001b[K     |███▋                            | 184 kB 9.3 MB/s eta 0:00:01\r\u001b[K     |███▊                            | 194 kB 9.3 MB/s eta 0:00:01\r\u001b[K     |████                            | 204 kB 9.3 MB/s eta 0:00:01\r\u001b[K     |████▏                           | 215 kB 9.3 MB/s eta 0:00:01\r\u001b[K     |████▍                           | 225 kB 9.3 MB/s eta 0:00:01\r\u001b[K     |████▋                           | 235 kB 9.3 MB/s eta 0:00:01\r\u001b[K     |████▊                           | 245 kB 9.3 MB/s eta 0:00:01\r\u001b[K     |█████                           | 256 kB 9.3 MB/s eta 0:00:01\r\u001b[K     |█████▏                          | 266 kB 9.3 MB/s eta 0:00:01\r\u001b[K     |█████▍                          | 276 kB 9.3 MB/s eta 0:00:01\r\u001b[K     |█████▌                          | 286 kB 9.3 MB/s eta 0:00:01\r\u001b[K     |█████▊                          | 296 kB 9.3 MB/s eta 0:00:01\r\u001b[K     |██████                          | 307 kB 9.3 MB/s eta 0:00:01\r\u001b[K     |██████▏                         | 317 kB 9.3 MB/s eta 0:00:01\r\u001b[K     |██████▍                         | 327 kB 9.3 MB/s eta 0:00:01\r\u001b[K     |██████▌                         | 337 kB 9.3 MB/s eta 0:00:01\r\u001b[K     |██████▊                         | 348 kB 9.3 MB/s eta 0:00:01\r\u001b[K     |███████                         | 358 kB 9.3 MB/s eta 0:00:01\r\u001b[K     |███████▏                        | 368 kB 9.3 MB/s eta 0:00:01\r\u001b[K     |███████▎                        | 378 kB 9.3 MB/s eta 0:00:01\r\u001b[K     |███████▌                        | 389 kB 9.3 MB/s eta 0:00:01\r\u001b[K     |███████▊                        | 399 kB 9.3 MB/s eta 0:00:01\r\u001b[K     |████████                        | 409 kB 9.3 MB/s eta 0:00:01\r\u001b[K     |████████▏                       | 419 kB 9.3 MB/s eta 0:00:01\r\u001b[K     |████████▎                       | 430 kB 9.3 MB/s eta 0:00:01\r\u001b[K     |████████▌                       | 440 kB 9.3 MB/s eta 0:00:01\r\u001b[K     |████████▊                       | 450 kB 9.3 MB/s eta 0:00:01\r\u001b[K     |█████████                       | 460 kB 9.3 MB/s eta 0:00:01\r\u001b[K     |█████████▏                      | 471 kB 9.3 MB/s eta 0:00:01\r\u001b[K     |█████████▎                      | 481 kB 9.3 MB/s eta 0:00:01\r\u001b[K     |█████████▌                      | 491 kB 9.3 MB/s eta 0:00:01\r\u001b[K     |█████████▊                      | 501 kB 9.3 MB/s eta 0:00:01\r\u001b[K     |██████████                      | 512 kB 9.3 MB/s eta 0:00:01\r\u001b[K     |██████████                      | 522 kB 9.3 MB/s eta 0:00:01\r\u001b[K     |██████████▎                     | 532 kB 9.3 MB/s eta 0:00:01\r\u001b[K     |██████████▌                     | 542 kB 9.3 MB/s eta 0:00:01\r\u001b[K     |██████████▊                     | 552 kB 9.3 MB/s eta 0:00:01\r\u001b[K     |███████████                     | 563 kB 9.3 MB/s eta 0:00:01\r\u001b[K     |███████████                     | 573 kB 9.3 MB/s eta 0:00:01\r\u001b[K     |███████████▎                    | 583 kB 9.3 MB/s eta 0:00:01\r\u001b[K     |███████████▌                    | 593 kB 9.3 MB/s eta 0:00:01\r\u001b[K     |███████████▊                    | 604 kB 9.3 MB/s eta 0:00:01\r\u001b[K     |███████████▉                    | 614 kB 9.3 MB/s eta 0:00:01\r\u001b[K     |████████████                    | 624 kB 9.3 MB/s eta 0:00:01\r\u001b[K     |████████████▎                   | 634 kB 9.3 MB/s eta 0:00:01\r\u001b[K     |████████████▌                   | 645 kB 9.3 MB/s eta 0:00:01\r\u001b[K     |████████████▊                   | 655 kB 9.3 MB/s eta 0:00:01\r\u001b[K     |████████████▉                   | 665 kB 9.3 MB/s eta 0:00:01\r\u001b[K     |█████████████                   | 675 kB 9.3 MB/s eta 0:00:01\r\u001b[K     |█████████████▎                  | 686 kB 9.3 MB/s eta 0:00:01\r\u001b[K     |█████████████▌                  | 696 kB 9.3 MB/s eta 0:00:01\r\u001b[K     |█████████████▊                  | 706 kB 9.3 MB/s eta 0:00:01\r\u001b[K     |█████████████▉                  | 716 kB 9.3 MB/s eta 0:00:01\r\u001b[K     |██████████████                  | 727 kB 9.3 MB/s eta 0:00:01\r\u001b[K     |██████████████▎                 | 737 kB 9.3 MB/s eta 0:00:01\r\u001b[K     |██████████████▌                 | 747 kB 9.3 MB/s eta 0:00:01\r\u001b[K     |██████████████▋                 | 757 kB 9.3 MB/s eta 0:00:01\r\u001b[K     |██████████████▉                 | 768 kB 9.3 MB/s eta 0:00:01\r\u001b[K     |███████████████                 | 778 kB 9.3 MB/s eta 0:00:01\r\u001b[K     |███████████████▎                | 788 kB 9.3 MB/s eta 0:00:01\r\u001b[K     |███████████████▌                | 798 kB 9.3 MB/s eta 0:00:01\r\u001b[K     |███████████████▋                | 808 kB 9.3 MB/s eta 0:00:01\r\u001b[K     |███████████████▉                | 819 kB 9.3 MB/s eta 0:00:01\r\u001b[K     |████████████████                | 829 kB 9.3 MB/s eta 0:00:01\r\u001b[K     |████████████████▎               | 839 kB 9.3 MB/s eta 0:00:01\r\u001b[K     |████████████████▍               | 849 kB 9.3 MB/s eta 0:00:01\r\u001b[K     |████████████████▋               | 860 kB 9.3 MB/s eta 0:00:01\r\u001b[K     |████████████████▉               | 870 kB 9.3 MB/s eta 0:00:01\r\u001b[K     |█████████████████               | 880 kB 9.3 MB/s eta 0:00:01\r\u001b[K     |█████████████████▎              | 890 kB 9.3 MB/s eta 0:00:01\r\u001b[K     |█████████████████▍              | 901 kB 9.3 MB/s eta 0:00:01\r\u001b[K     |█████████████████▋              | 911 kB 9.3 MB/s eta 0:00:01\r\u001b[K     |█████████████████▉              | 921 kB 9.3 MB/s eta 0:00:01\r\u001b[K     |██████████████████              | 931 kB 9.3 MB/s eta 0:00:01\r\u001b[K     |██████████████████▎             | 942 kB 9.3 MB/s eta 0:00:01\r\u001b[K     |██████████████████▍             | 952 kB 9.3 MB/s eta 0:00:01\r\u001b[K     |██████████████████▋             | 962 kB 9.3 MB/s eta 0:00:01\r\u001b[K     |██████████████████▉             | 972 kB 9.3 MB/s eta 0:00:01\r\u001b[K     |███████████████████             | 983 kB 9.3 MB/s eta 0:00:01\r\u001b[K     |███████████████████▏            | 993 kB 9.3 MB/s eta 0:00:01\r\u001b[K     |███████████████████▍            | 1.0 MB 9.3 MB/s eta 0:00:01\r\u001b[K     |███████████████████▋            | 1.0 MB 9.3 MB/s eta 0:00:01\r\u001b[K     |███████████████████▉            | 1.0 MB 9.3 MB/s eta 0:00:01\r\u001b[K     |████████████████████            | 1.0 MB 9.3 MB/s eta 0:00:01\r\u001b[K     |████████████████████▏           | 1.0 MB 9.3 MB/s eta 0:00:01\r\u001b[K     |████████████████████▍           | 1.1 MB 9.3 MB/s eta 0:00:01\r\u001b[K     |████████████████████▋           | 1.1 MB 9.3 MB/s eta 0:00:01\r\u001b[K     |████████████████████▉           | 1.1 MB 9.3 MB/s eta 0:00:01\r\u001b[K     |█████████████████████           | 1.1 MB 9.3 MB/s eta 0:00:01\r\u001b[K     |█████████████████████▏          | 1.1 MB 9.3 MB/s eta 0:00:01\r\u001b[K     |█████████████████████▍          | 1.1 MB 9.3 MB/s eta 0:00:01\r\u001b[K     |█████████████████████▋          | 1.1 MB 9.3 MB/s eta 0:00:01\r\u001b[K     |█████████████████████▉          | 1.1 MB 9.3 MB/s eta 0:00:01\r\u001b[K     |██████████████████████          | 1.1 MB 9.3 MB/s eta 0:00:01\r\u001b[K     |██████████████████████▏         | 1.1 MB 9.3 MB/s eta 0:00:01\r\u001b[K     |██████████████████████▍         | 1.2 MB 9.3 MB/s eta 0:00:01\r\u001b[K     |██████████████████████▋         | 1.2 MB 9.3 MB/s eta 0:00:01\r\u001b[K     |██████████████████████▉         | 1.2 MB 9.3 MB/s eta 0:00:01\r\u001b[K     |███████████████████████         | 1.2 MB 9.3 MB/s eta 0:00:01\r\u001b[K     |███████████████████████▏        | 1.2 MB 9.3 MB/s eta 0:00:01\r\u001b[K     |███████████████████████▍        | 1.2 MB 9.3 MB/s eta 0:00:01\r\u001b[K     |███████████████████████▋        | 1.2 MB 9.3 MB/s eta 0:00:01\r\u001b[K     |███████████████████████▊        | 1.2 MB 9.3 MB/s eta 0:00:01\r\u001b[K     |████████████████████████        | 1.2 MB 9.3 MB/s eta 0:00:01\r\u001b[K     |████████████████████████▏       | 1.2 MB 9.3 MB/s eta 0:00:01\r\u001b[K     |████████████████████████▍       | 1.3 MB 9.3 MB/s eta 0:00:01\r\u001b[K     |████████████████████████▋       | 1.3 MB 9.3 MB/s eta 0:00:01\r\u001b[K     |████████████████████████▊       | 1.3 MB 9.3 MB/s eta 0:00:01\r\u001b[K     |█████████████████████████       | 1.3 MB 9.3 MB/s eta 0:00:01\r\u001b[K     |█████████████████████████▏      | 1.3 MB 9.3 MB/s eta 0:00:01\r\u001b[K     |█████████████████████████▍      | 1.3 MB 9.3 MB/s eta 0:00:01\r\u001b[K     |█████████████████████████▌      | 1.3 MB 9.3 MB/s eta 0:00:01\r\u001b[K     |█████████████████████████▊      | 1.3 MB 9.3 MB/s eta 0:00:01\r\u001b[K     |██████████████████████████      | 1.3 MB 9.3 MB/s eta 0:00:01\r\u001b[K     |██████████████████████████▏     | 1.4 MB 9.3 MB/s eta 0:00:01\r\u001b[K     |██████████████████████████▍     | 1.4 MB 9.3 MB/s eta 0:00:01\r\u001b[K     |██████████████████████████▌     | 1.4 MB 9.3 MB/s eta 0:00:01\r\u001b[K     |██████████████████████████▊     | 1.4 MB 9.3 MB/s eta 0:00:01\r\u001b[K     |███████████████████████████     | 1.4 MB 9.3 MB/s eta 0:00:01\r\u001b[K     |███████████████████████████▏    | 1.4 MB 9.3 MB/s eta 0:00:01\r\u001b[K     |███████████████████████████▍    | 1.4 MB 9.3 MB/s eta 0:00:01\r\u001b[K     |███████████████████████████▌    | 1.4 MB 9.3 MB/s eta 0:00:01\r\u001b[K     |███████████████████████████▊    | 1.4 MB 9.3 MB/s eta 0:00:01\r\u001b[K     |████████████████████████████    | 1.4 MB 9.3 MB/s eta 0:00:01\r\u001b[K     |████████████████████████████▏   | 1.5 MB 9.3 MB/s eta 0:00:01\r\u001b[K     |████████████████████████████▎   | 1.5 MB 9.3 MB/s eta 0:00:01\r\u001b[K     |████████████████████████████▌   | 1.5 MB 9.3 MB/s eta 0:00:01\r\u001b[K     |████████████████████████████▊   | 1.5 MB 9.3 MB/s eta 0:00:01\r\u001b[K     |█████████████████████████████   | 1.5 MB 9.3 MB/s eta 0:00:01\r\u001b[K     |█████████████████████████████▏  | 1.5 MB 9.3 MB/s eta 0:00:01\r\u001b[K     |█████████████████████████████▎  | 1.5 MB 9.3 MB/s eta 0:00:01\r\u001b[K     |█████████████████████████████▌  | 1.5 MB 9.3 MB/s eta 0:00:01\r\u001b[K     |█████████████████████████████▊  | 1.5 MB 9.3 MB/s eta 0:00:01\r\u001b[K     |██████████████████████████████  | 1.5 MB 9.3 MB/s eta 0:00:01\r\u001b[K     |██████████████████████████████▏ | 1.6 MB 9.3 MB/s eta 0:00:01\r\u001b[K     |██████████████████████████████▎ | 1.6 MB 9.3 MB/s eta 0:00:01\r\u001b[K     |██████████████████████████████▌ | 1.6 MB 9.3 MB/s eta 0:00:01\r\u001b[K     |██████████████████████████████▊ | 1.6 MB 9.3 MB/s eta 0:00:01\r\u001b[K     |███████████████████████████████ | 1.6 MB 9.3 MB/s eta 0:00:01\r\u001b[K     |███████████████████████████████ | 1.6 MB 9.3 MB/s eta 0:00:01\r\u001b[K     |███████████████████████████████▎| 1.6 MB 9.3 MB/s eta 0:00:01\r\u001b[K     |███████████████████████████████▌| 1.6 MB 9.3 MB/s eta 0:00:01\r\u001b[K     |███████████████████████████████▊| 1.6 MB 9.3 MB/s eta 0:00:01\r\u001b[K     |████████████████████████████████| 1.6 MB 9.3 MB/s eta 0:00:01\r\u001b[K     |████████████████████████████████| 1.7 MB 9.3 MB/s \n",
            "\u001b[?25h  Installing build dependencies ... \u001b[?25l\u001b[?25hdone\n",
            "  Getting requirements to build wheel ... \u001b[?25l\u001b[?25hdone\n",
            "  Installing backend dependencies ... \u001b[?25l\u001b[?25hdone\n",
            "    Preparing wheel metadata ... \u001b[?25l\u001b[?25hdone\n",
            "Requirement already satisfied: scikit-learn in /usr/local/lib/python3.7/dist-packages (from pyldavis) (1.0.2)\n",
            "Requirement already satisfied: scipy in /usr/local/lib/python3.7/dist-packages (from pyldavis) (1.4.1)\n",
            "Requirement already satisfied: jinja2 in /usr/local/lib/python3.7/dist-packages (from pyldavis) (2.11.3)\n",
            "Requirement already satisfied: pandas>=1.2.0 in /usr/local/lib/python3.7/dist-packages (from pyldavis) (1.3.5)\n",
            "Requirement already satisfied: numpy>=1.20.0 in /usr/local/lib/python3.7/dist-packages (from pyldavis) (1.21.6)\n",
            "Requirement already satisfied: setuptools in /usr/local/lib/python3.7/dist-packages (from pyldavis) (57.4.0)\n",
            "Requirement already satisfied: gensim in /usr/local/lib/python3.7/dist-packages (from pyldavis) (3.6.0)\n",
            "Requirement already satisfied: joblib in /usr/local/lib/python3.7/dist-packages (from pyldavis) (1.1.0)\n",
            "Collecting funcy\n",
            "  Downloading funcy-1.17-py2.py3-none-any.whl (33 kB)\n",
            "Requirement already satisfied: numexpr in /usr/local/lib/python3.7/dist-packages (from pyldavis) (2.8.1)\n",
            "Requirement already satisfied: future in /usr/local/lib/python3.7/dist-packages (from pyldavis) (0.16.0)\n",
            "Requirement already satisfied: sklearn in /usr/local/lib/python3.7/dist-packages (from pyldavis) (0.0)\n",
            "Requirement already satisfied: python-dateutil>=2.7.3 in /usr/local/lib/python3.7/dist-packages (from pandas>=1.2.0->pyldavis) (2.8.2)\n",
            "Requirement already satisfied: pytz>=2017.3 in /usr/local/lib/python3.7/dist-packages (from pandas>=1.2.0->pyldavis) (2022.1)\n",
            "Requirement already satisfied: six>=1.5 in /usr/local/lib/python3.7/dist-packages (from python-dateutil>=2.7.3->pandas>=1.2.0->pyldavis) (1.15.0)\n",
            "Requirement already satisfied: smart-open>=1.2.1 in /usr/local/lib/python3.7/dist-packages (from gensim->pyldavis) (6.0.0)\n",
            "Requirement already satisfied: MarkupSafe>=0.23 in /usr/local/lib/python3.7/dist-packages (from jinja2->pyldavis) (2.0.1)\n",
            "Requirement already satisfied: packaging in /usr/local/lib/python3.7/dist-packages (from numexpr->pyldavis) (21.3)\n",
            "Requirement already satisfied: pyparsing!=3.0.5,>=2.0.2 in /usr/local/lib/python3.7/dist-packages (from packaging->numexpr->pyldavis) (3.0.8)\n",
            "Requirement already satisfied: threadpoolctl>=2.0.0 in /usr/local/lib/python3.7/dist-packages (from scikit-learn->pyldavis) (3.1.0)\n",
            "Building wheels for collected packages: pyldavis\n",
            "  Building wheel for pyldavis (PEP 517) ... \u001b[?25l\u001b[?25hdone\n",
            "  Created wheel for pyldavis: filename=pyLDAvis-3.3.1-py2.py3-none-any.whl size=136898 sha256=d4a5edd60d94061293cf88c385357c618210d1202659e4bbcd3574c93d8dad1b\n",
            "  Stored in directory: /root/.cache/pip/wheels/c9/21/f6/17bcf2667e8a68532ba2fbf6d5c72fdf4c7f7d9abfa4852d2f\n",
            "Successfully built pyldavis\n",
            "Installing collected packages: funcy, pyldavis\n",
            "Successfully installed funcy-1.17 pyldavis-3.3.1\n"
          ]
        }
      ],
      "source": [
        "!pip install pyldavis"
      ]
    },
    {
      "cell_type": "code",
      "execution_count": null,
      "metadata": {
        "id": "PE4cMC6x3Zcp",
        "colab": {
          "base_uri": "https://localhost:8080/"
        },
        "outputId": "72f988e7-4c97-459b-d578-0a0a78c26188"
      },
      "outputs": [
        {
          "output_type": "stream",
          "name": "stderr",
          "text": [
            "/usr/local/lib/python3.7/dist-packages/past/types/oldstr.py:5: DeprecationWarning: Using or importing the ABCs from 'collections' instead of from 'collections.abc' is deprecated since Python 3.3,and in 3.9 it will stop working\n",
            "  from collections import Iterable\n",
            "/usr/local/lib/python3.7/dist-packages/past/builtins/misc.py:4: DeprecationWarning: Using or importing the ABCs from 'collections' instead of from 'collections.abc' is deprecated since Python 3.3,and in 3.9 it will stop working\n",
            "  from collections import Mapping\n",
            "/usr/local/lib/python3.7/dist-packages/scipy/sparse/sparsetools.py:21: DeprecationWarning: `scipy.sparse.sparsetools` is deprecated!\n",
            "scipy.sparse.sparsetools is a private module for scipy.sparse, and should not be used.\n",
            "  _deprecated()\n"
          ]
        }
      ],
      "source": [
        "import pyLDAvis\n",
        "import pyLDAvis.gensim_models\n",
        "import gensim\n",
        "import gensim.corpora as corpora\n",
        "from gensim.utils import simple_preprocess\n",
        "from gensim.models import CoherenceModel\n",
        "import spacy"
      ]
    },
    {
      "cell_type": "code",
      "execution_count": null,
      "metadata": {
        "id": "896H4u7N3aup"
      },
      "outputs": [],
      "source": [
        "from google.colab import auth \n",
        "auth.authenticate_user() \n",
        " \n",
        "import gspread \n",
        "from google.auth import default \n",
        "creds, _ = default() \n",
        " \n",
        "gc = gspread.authorize(creds)"
      ]
    },
    {
      "cell_type": "code",
      "execution_count": null,
      "metadata": {
        "id": "BcbQpJYmtws3",
        "colab": {
          "base_uri": "https://localhost:8080/"
        },
        "outputId": "ede90065-8012-482a-be40-75def682582e"
      },
      "outputs": [
        {
          "output_type": "stream",
          "name": "stderr",
          "text": [
            "/usr/local/lib/python3.7/dist-packages/catalogue.py:138: DeprecationWarning: SelectableGroups dict interface is deprecated. Use select.\n",
            "  for entry_point in AVAILABLE_ENTRY_POINTS.get(self.entry_point_namespace, []):\n",
            "/usr/local/lib/python3.7/dist-packages/catalogue.py:138: DeprecationWarning: SelectableGroups dict interface is deprecated. Use select.\n",
            "  for entry_point in AVAILABLE_ENTRY_POINTS.get(self.entry_point_namespace, []):\n",
            "/usr/local/lib/python3.7/dist-packages/catalogue.py:126: DeprecationWarning: SelectableGroups dict interface is deprecated. Use select.\n",
            "  for entry_point in AVAILABLE_ENTRY_POINTS.get(self.entry_point_namespace, []):\n",
            "/usr/local/lib/python3.7/dist-packages/catalogue.py:138: DeprecationWarning: SelectableGroups dict interface is deprecated. Use select.\n",
            "  for entry_point in AVAILABLE_ENTRY_POINTS.get(self.entry_point_namespace, []):\n"
          ]
        }
      ],
      "source": [
        "nlp = spacy.load('en_core_web_sm', disable=['parser', 'ner'])\n",
        "stop_words = nltk.corpus.stopwords.words('english')"
      ]
    },
    {
      "cell_type": "markdown",
      "metadata": {
        "id": "CRoP-BFu4xUH"
      },
      "source": [
        "#main"
      ]
    },
    {
      "cell_type": "code",
      "execution_count": null,
      "metadata": {
        "id": "aXZqJn017gfY"
      },
      "outputs": [],
      "source": [
        "\n",
        "def process_words(texts, stop_words=stop_words, allowed_tags=['NOUN', 'ADJ', 'VERB', 'ADV']):\n",
        "    bigram = gensim.models.Phrases(texts, min_count=20, threshold=100)\n",
        "    trigram = gensim.models.Phrases(bigram[texts], threshold=100)\n",
        "    bigram_mod = gensim.models.phrases.Phraser(bigram)\n",
        "    trigram_mod = gensim.models.phrases.Phraser(trigram)\n",
        "    texts = [[word for word in simple_preprocess(str(doc), deacc=True, min_len=3) if word not in stop_words] for doc in texts]\n",
        "    texts = [bigram_mod[doc] for doc in texts]\n",
        "    texts = [trigram_mod[bigram_mod[doc]] for doc in texts]\n",
        "    \n",
        "    texts_out = []\n",
        "    for sent in texts:\n",
        "        doc = nlp(\" \".join(sent)) \n",
        "        texts_out.append([token.lemma_ for token in doc if token.pos_ in allowed_tags])\n",
        "    \n",
        "    texts_out = [[word for word in simple_preprocess(str(doc), deacc=True, min_len=3) if word not in stop_words] for doc in texts_out]    \n",
        "    # print(texts_out)\n",
        "    return texts_out"
      ]
    },
    {
      "cell_type": "code",
      "execution_count": null,
      "metadata": {
        "id": "6IHC0nP27krR"
      },
      "outputs": [],
      "source": [
        "def corpus_ready(data):\n",
        "    data_ready = process_words(data)\n",
        "    id2word = corpora.Dictionary(data_ready)\n",
        "    corpus = [id2word.doc2bow(text) for text in data_ready]\n",
        "    # print(corpus)\n",
        "    return corpus,id2word"
      ]
    },
    {
      "cell_type": "code",
      "execution_count": null,
      "metadata": {
        "id": "GKBQ5ftBaEx8",
        "colab": {
          "base_uri": "https://localhost:8080/"
        },
        "outputId": "291ce65b-553c-4be0-e213-a3a409078547"
      },
      "outputs": [
        {
          "output_type": "stream",
          "name": "stdout",
          "text": [
            "Collecting pandas==1.2\n",
            "  Downloading pandas-1.2.0-cp37-cp37m-manylinux1_x86_64.whl (9.9 MB)\n",
            "\u001b[K     |████████████████████████████████| 9.9 MB 8.6 MB/s \n",
            "\u001b[?25hRequirement already satisfied: numpy>=1.16.5 in /usr/local/lib/python3.7/dist-packages (from pandas==1.2) (1.21.6)\n",
            "Requirement already satisfied: pytz>=2017.3 in /usr/local/lib/python3.7/dist-packages (from pandas==1.2) (2022.1)\n",
            "Requirement already satisfied: python-dateutil>=2.7.3 in /usr/local/lib/python3.7/dist-packages (from pandas==1.2) (2.8.2)\n",
            "Requirement already satisfied: six>=1.5 in /usr/local/lib/python3.7/dist-packages (from python-dateutil>=2.7.3->pandas==1.2) (1.15.0)\n",
            "Installing collected packages: pandas\n",
            "  Attempting uninstall: pandas\n",
            "    Found existing installation: pandas 1.3.5\n",
            "    Uninstalling pandas-1.3.5:\n",
            "      Successfully uninstalled pandas-1.3.5\n",
            "Successfully installed pandas-1.2.0\n"
          ]
        },
        {
          "output_type": "display_data",
          "data": {
            "application/vnd.colab-display-data+json": {
              "pip_warning": {
                "packages": [
                  "pandas"
                ]
              }
            }
          },
          "metadata": {}
        }
      ],
      "source": [
        "!pip install --upgrade pandas==1.2\n",
        "from sklearn import preprocessing\n",
        "\n",
        "def frequency_counter(data):\n",
        "    dict_corpus = {}\n",
        "    dict_={}\n",
        "    totalfreq=0\n",
        "    corpus,id2word=corpus_ready(data)\n",
        "    for i in range(len(corpus)):\n",
        "        for idx, freq in corpus[i]:\n",
        "            totalfreq+=freq\n",
        "            if id2word[idx] in dict_corpus:\n",
        "                dict_corpus[id2word[idx]] += freq\n",
        "            else:\n",
        "                dict_corpus[id2word[idx]] = freq\n",
        "\n",
        "    dict_['words']=dict_corpus.keys() \n",
        "    dict_['freq']= dict_corpus.values()\n",
        "    dict_df = pd.DataFrame.from_dict(dict_)\n",
        "    x = dict_df['freq'].values.astype(float).reshape(-1,1) #returns a numpy array\n",
        "    min_max_scaler = preprocessing.MinMaxScaler()\n",
        "    x_scaled = min_max_scaler.fit_transform(x)\n",
        "    dict_df['freqNormalize']=x_scaled\n",
        "    extension = dict_df[dict_df.freq>50].words.values\n",
        "    stop_words.extend(extension)\n",
        "    # print(stop_words)"
      ]
    },
    {
      "cell_type": "markdown",
      "metadata": {
        "id": "0spvlWXl8bHx"
      },
      "source": [
        "#generate TM"
      ]
    },
    {
      "cell_type": "code",
      "execution_count": null,
      "metadata": {
        "id": "RvfiHEI1d-H7"
      },
      "outputs": [],
      "source": [
        "def new_corpus(data,test=0):\n",
        "    if test==0:\n",
        "        frequency_counter(data)\n",
        "    data_ready = process_words(data)\n",
        "    id2word = corpora.Dictionary(data_ready)\n",
        "    id2word.filter_extremes(no_below=2, no_above=0.5)\n",
        "    corpus = [id2word.doc2bow(text) for text in data_ready]\n",
        "    # print(corpus)\n",
        "    return corpus,id2word"
      ]
    },
    {
      "cell_type": "code",
      "execution_count": null,
      "metadata": {
        "id": "uNNWXXFnBdgF"
      },
      "outputs": [],
      "source": [
        "def topic_model_train(X_train,topics):\n",
        "    global lda\n",
        "    corpus,id2word=new_corpus(X_train)\n",
        "    lda = gensim.models.ldamodel.LdaModel(corpus=corpus, num_topics=topics, id2word=id2word)\n",
        "    tm_train_results=lda[corpus]\n",
        "    # print(tm_train_results)\n",
        "    return tm_train_results"
      ]
    },
    {
      "cell_type": "code",
      "execution_count": null,
      "metadata": {
        "id": "ZxUUf2sChnFm"
      },
      "outputs": [],
      "source": [
        "def topic_prediction_vector(X_test,topics):\n",
        "    corpus,_ =new_corpus(X_test,1)\n",
        "    tm_test_results = lda[corpus]\n",
        "    # print(tm_test_results)\n",
        "    return tm_test_results"
      ]
    },
    {
      "cell_type": "code",
      "execution_count": null,
      "metadata": {
        "id": "APRNrZLBkCaw"
      },
      "outputs": [],
      "source": [
        "def create_TM_df(tm_results,topics):\n",
        "    rows, cols = (len(tm_results), topics)\n",
        "    feature=[]\n",
        "    for i in range(rows):\n",
        "        col = tm_results[i]\n",
        "        topic_exist=[topic[0] for topic in col]\n",
        "        for j in range(cols):\n",
        "            if j in topic_exist:\n",
        "                continue\n",
        "            else:\n",
        "                col.append((j,0))\n",
        "        col.sort()\n",
        "        feature.append(col)\n",
        "    columns = [\"Topic-\" + str(number) for number in range(1,topics+1)]\n",
        "    X_TM_df=pd.DataFrame([[y[1] for y in  x] for x in feature],columns=columns)\n",
        "    return X_TM_df"
      ]
    },
    {
      "cell_type": "markdown",
      "metadata": {
        "id": "kxnKvMMa3j92"
      },
      "source": [
        "#Metrics"
      ]
    },
    {
      "cell_type": "code",
      "execution_count": null,
      "metadata": {
        "id": "5oQwKBLvlhTW"
      },
      "outputs": [],
      "source": [
        "from sklearn.metrics import accuracy_score\n",
        "from sklearn.metrics import precision_score\n",
        "from sklearn.metrics import recall_score\n",
        "from sklearn.metrics import f1_score\n",
        "from sklearn.metrics import roc_auc_score\n",
        "\n",
        "def permanceMetrics(Y, pred, pred_prob):\n",
        "    acc = accuracy_score(Y,pred)\n",
        "    pre = precision_score(Y,pred,average='weighted')\n",
        "    re = recall_score(Y,pred, average='weighted')\n",
        "    f1 = f1_score(Y,pred, average='weighted')\n",
        "    acrc = roc_auc_score(Y,pred_prob,multi_class= 'ovr')\n",
        "    return acc, pre, re, f1, acrc\n",
        "\n",
        "def avgMetric(met):\n",
        "    res = np.array(met)\n",
        "    acc = res[::5].mean()\n",
        "    pre = res[1::5].mean()\n",
        "    re = res[2::5].mean()\n",
        "    f1 = res[3::5].mean()\n",
        "    acrc = res[4::5].mean()\n",
        "    return np.array([acc, pre, re, f1, acrc])"
      ]
    },
    {
      "cell_type": "markdown",
      "metadata": {
        "id": "MaXgUbyXnqv2"
      },
      "source": [
        "#New Version"
      ]
    },
    {
      "cell_type": "code",
      "execution_count": null,
      "metadata": {
        "colab": {
          "base_uri": "https://localhost:8080/"
        },
        "id": "EJn17OWojHZS",
        "outputId": "74196656-a623-41c2-a4d2-862b61666640"
      },
      "outputs": [
        {
          "output_type": "stream",
          "name": "stdout",
          "text": [
            "(1245, 9) (1245,)\n"
          ]
        }
      ],
      "source": [
        "import pandas as pd\n",
        "worksheet1 = gc.open('Final Dataset').get_worksheet(0)\n",
        "worksheet2 = gc.open('Final Dataset').get_worksheet(1)\n",
        "rows1 = worksheet1.get_all_values()\n",
        "rows2 = worksheet2.get_all_values()\n",
        "\n",
        "\n",
        "stackData1=pd.DataFrame.from_records(rows1,columns=rows1[0])\n",
        "stackData2=pd.DataFrame.from_records(rows2,columns=rows2[0])\n",
        "\n",
        "\n",
        "stackData1.drop(0, inplace=True, axis=0)\n",
        "stackData2.drop(0, inplace=True, axis=0)\n",
        "\n",
        "\n",
        "stackData=[stackData1, stackData2]\n",
        "stackData=pd.concat(stackData,ignore_index=True)\n",
        "\n",
        "stackData['ProcessedBody']=stackData['ProcessedBody']+stackData['Tags']+stackData['Title']\n",
        "\n",
        "feature=[\"ProcessedBody\", \"LOC\", \"QuestionLength\",\t\"Url+ImageCount\",\t\"Reputation\",\t\"user_badge_bronze_counts\",\t\"user_badge_gold_counts\",\t\"user_badge_silver_counts\",\t\"accept_rate\"]\n",
        "data=stackData[feature].values\n",
        "y=stackData[\"Label\"].values\n",
        "\n",
        "print(data.shape, y.shape)"
      ]
    },
    {
      "cell_type": "markdown",
      "source": [
        "#Random Forest"
      ],
      "metadata": {
        "id": "NMNRyDTAywQ4"
      }
    },
    {
      "cell_type": "code",
      "execution_count": null,
      "metadata": {
        "id": "hAxUwcB2gQw2",
        "colab": {
          "base_uri": "https://localhost:8080/"
        },
        "outputId": "42406b1e-ed73-4705-fc23-54249a296b85"
      },
      "outputs": [
        {
          "output_type": "stream",
          "name": "stdout",
          "text": [
            "For total Number of Topics: 36\n",
            "Metrics :  Accuracy \t\tPrecision \t\tRecall \t\tF1-score \tAUC_ROC\n",
            "(1120,) (125,)\n",
            "(1120,) (125,)\n",
            "Fold- 1 :  0.592 0.5688205128205128 0.592 0.5104861952861953 0.6099976949690006\n",
            "125\n",
            "[[ 1  7  2]\n",
            " [ 0 68  6]\n",
            " [ 0 36  5]]\n",
            "(1120,) (125,)\n",
            "(1120,) (125,)\n",
            "Fold- 2 :  0.584 0.4436190476190476 0.584 0.48378181818181815 0.6535735822707939\n",
            "125\n",
            "[[ 0  3  7]\n",
            " [ 0 70  4]\n",
            " [ 0 38  3]]\n",
            "(1120,) (125,)\n",
            "(1120,) (125,)\n",
            "Fold- 3 :  0.592 0.4362434782608696 0.592 0.4767731092436975 0.7028985242315664\n",
            "125\n",
            "[[ 0  4  6]\n",
            " [ 0 72  2]\n",
            " [ 0 39  2]]\n",
            "(1120,) (125,)\n",
            "(1120,) (125,)\n",
            "Fold- 4 :  0.656 0.5812391879964696 0.656 0.5932009685230024 0.7297386243100797\n",
            "125\n",
            "[[ 0  4  6]\n",
            " [ 0 70  4]\n",
            " [ 0 29 12]]\n",
            "(1120,) (125,)\n",
            "(1120,) (125,)\n",
            "Fold- 5 :  0.656 0.585939393939394 0.656 0.6022312138728323 0.7574838545271981\n",
            "125\n",
            "[[ 0  5  6]\n",
            " [ 0 69  5]\n",
            " [ 2 25 13]]\n",
            "(1121,) (124,)\n",
            "(1121,) (124,)\n",
            "Fold- 6 :  0.5967741935483871 0.4970814132104454 0.5967741935483871 0.5154591466887588 0.7311577954588534\n",
            "124\n",
            "[[ 0  3  7]\n",
            " [ 1 69  3]\n",
            " [ 3 33  5]]\n",
            "(1121,) (124,)\n",
            "(1121,) (124,)\n",
            "Fold- 7 :  0.6612903225806451 0.5936260134552355 0.6612903225806451 0.6006963645673323 0.7488227663197167\n",
            "124\n",
            "[[ 0  5  5]\n",
            " [ 0 69  4]\n",
            " [ 0 28 13]]\n",
            "(1121,) (124,)\n",
            "(1121,) (124,)\n",
            "Fold- 8 :  0.6532258064516129 0.6620583717357911 0.6532258064516129 0.600165952673757 0.6682404721126857\n",
            "124\n",
            "[[ 1  5  4]\n",
            " [ 0 68  5]\n",
            " [ 0 29 12]]\n",
            "(1121,) (124,)\n",
            "(1121,) (124,)\n",
            "Fold- 9 :  0.6370967741935484 0.5754347826086956 0.6370967741935484 0.5835134835912735 0.678261335417897\n",
            "124\n",
            "[[ 0  6  4]\n",
            " [ 1 66  6]\n",
            " [ 0 28 13]]\n",
            "(1121,) (124,)\n",
            "(1121,) (124,)\n",
            "Fold- 10 :  0.5806451612903226 0.48574892849086404 0.5806451612903226 0.4923076169771041 0.6172975586290189\n",
            "124\n",
            "[[ 0  8  2]\n",
            " [ 0 67  6]\n",
            " [ 1 35  5]]\n",
            "\n",
            "Average:  0.5809949391485698 0.5780970589774226 0.579754684115168 0.5830612850402568 0.5914034722025987\n"
          ]
        }
      ],
      "source": [
        "import warnings\n",
        "warnings.filterwarnings(\"ignore\", category=DeprecationWarning) \n",
        "warnings.filterwarnings(\"ignore\", category=UserWarning) \n",
        "\n",
        "from sklearn import model_selection\n",
        "from sklearn.metrics import classification_report\n",
        "from sklearn.model_selection import StratifiedKFold\n",
        "from sklearn.metrics import confusion_matrix\n",
        "from sklearn.ensemble import RandomForestClassifier as RF\n",
        "skf = StratifiedKFold(n_splits=10)\n",
        "\n",
        "i=0\n",
        "NoOfTopics=36\n",
        "rm = []\n",
        "for topic in range(NoOfTopics,NoOfTopics+1):\n",
        "    print(\"For total Number of Topics:\",topic)\n",
        "    print('Metrics :  Accuracy \\t\\tPrecision \\t\\tRecall \\t\\tF1-score \\tAUC_ROC')\n",
        "    i=0\n",
        "    for train_index, test_index in skf.split(data,y):\n",
        "        X_train_body, X_test_body = data[:,0][train_index], data[:,0][test_index]\n",
        "        Y_train, Y_test = y[train_index], y[test_index]\n",
        "\n",
        "        print(X_train_body.shape, X_test_body.shape)\n",
        "        print(Y_train.shape, Y_test.shape)\n",
        "\n",
        "\n",
        "        tm_train_results=topic_model_train(X_train_body,topic)\n",
        "        tm_test_results=topic_prediction_vector(X_test_body,topic)\n",
        "        X_train_df=create_TM_df(tm_train_results,topic)\n",
        "        X_test_df=create_TM_df(tm_test_results,topic)\n",
        "\n",
        "\n",
        "        \n",
        "        X_train_others,X_test_others=data[:,1:9][train_index], data[:,1:9][test_index]\n",
        "\n",
        "        X_train_others_df=pd.DataFrame([[x for x in col] for col in X_train_others],columns=feature[1:9])\n",
        "        X_test_others_df=pd.DataFrame([[x for x in col] for col in X_test_others],columns=feature[1:9])\n",
        "\n",
        "        X_all_train_df=pd.concat([X_train_df,X_train_others_df], axis=1)\n",
        "        X_all_test_df=pd.concat([X_test_df,X_test_others_df], axis=1)\n",
        "\n",
        "\n",
        "\n",
        "        X_train=X_all_train_df.values\n",
        "        X_test=X_all_test_df.values\n",
        "\n",
        "\n",
        "        rf = RF(n_estimators = 15, max_depth = 8, criterion='entropy', random_state = 42)\n",
        "\n",
        "\n",
        "\n",
        "        rf.fit(X_train,Y_train)\n",
        "        pred = rf.predict(X_test)\n",
        "        pred_prob = rf.predict_proba(X_test)\n",
        "\n",
        "\n",
        "        i=i+1\n",
        "        acc, pre, re, f1, acrc = permanceMetrics(Y_test, pred, pred_prob)\n",
        "        print('Fold-',i,': ', acc, pre, re, f1, acrc)\n",
        "        cm = confusion_matrix(Y_test, pred)\n",
        "        print(len(Y_test))\n",
        "        print(cm)\n",
        "        rm += [acc, pre, re, f1]\n",
        "\n",
        "    acc, pre, re, f1, acrc = avgMetric(rm)\n",
        "    print('\\nAverage: ', acc, pre, re, f1, acrc)"
      ]
    },
    {
      "cell_type": "markdown",
      "source": [
        "#XG Boost\n"
      ],
      "metadata": {
        "id": "lesB_3tBy2eB"
      }
    },
    {
      "cell_type": "code",
      "source": [
        "from xgboost import XGBClassifier\n",
        "from sklearn import model_selection\n",
        "from sklearn.metrics import classification_report\n",
        "from sklearn.model_selection import StratifiedKFold\n",
        "from sklearn.metrics import confusion_matrix\n",
        "import matplotlib.pyplot as plt\n",
        "import warnings\n",
        "warnings.filterwarnings(\"ignore\", category=DeprecationWarning) \n",
        "warnings.filterwarnings(\"ignore\", category=UserWarning) \n",
        "\n",
        "\n",
        "kfold = StratifiedKFold(n_splits=10, shuffle=True, random_state=42)\n",
        "i=0;\n",
        "xg = []\n",
        "size=20\n",
        "\n",
        "for train_index, test_index in kfold.split(data,y):\n",
        "        X_train_body, X_test_body = data[:,0][train_index], data[:,0][test_index]\n",
        "        y_train, y_test = y[train_index], y[test_index]\n",
        "        print(X_train_body.shape, X_test_body.shape)\n",
        "        print(Y_train.shape, Y_test.shape)\n",
        "\n",
        "\n",
        "        tm_train_results=topic_model_train(X_train_body,topic)\n",
        "        tm_test_results=topic_prediction_vector(X_test_body,topic)\n",
        "        X_train_df=create_TM_df(tm_train_results,topic)\n",
        "        X_test_df=create_TM_df(tm_test_results,topic)\n",
        "\n",
        "\n",
        "        \n",
        "        X_train_others,X_test_others=data[:,1:9][train_index], data[:,1:9][test_index]\n",
        "\n",
        "        X_train_others_df=pd.DataFrame([[x for x in col] for col in X_train_others],columns=feature[1:9])\n",
        "        X_test_others_df=pd.DataFrame([[x for x in col] for col in X_test_others],columns=feature[1:9])\n",
        "\n",
        "        X_all_train_df=pd.concat([X_train_df,X_train_others_df], axis=1)\n",
        "        X_all_test_df=pd.concat([X_test_df,X_test_others_df], axis=1)\n",
        "\n",
        "\n",
        "\n",
        "        X_train=X_all_train_df.values\n",
        "        X_test=X_all_test_df.values\n",
        "\n",
        "        my_model = XGBClassifier(n_estimators=40,learning_rate=0.05, max_depth=8)\n",
        "        my_model.fit(X_train, y_train)\n",
        "        pred = my_model.predict(X_test)\n",
        "        pred_prob = my_model.predict_proba(X_test)\n",
        "        i=i+1\n",
        "        acc, pre, re, f1, acrc = permanceMetrics(y_test, pred, pred_prob)\n",
        "        print('Fold-',i,': ', acc, pre, re, f1, acrc)\n",
        "        xg += [acc, pre, re, f1, acrc]\n",
        "        cm = confusion_matrix(y_test, pred)\n",
        "        print(cm)\n",
        "acc, pre, re, f1, acrc = avgMetric(xg)\n",
        "print('\\nAverage: ', acc, pre, re, f1, acrc)\n"
      ],
      "metadata": {
        "colab": {
          "base_uri": "https://localhost:8080/"
        },
        "id": "qI5cKEFUy6Te",
        "outputId": "0bdc169f-8127-4684-f83e-2de6347a5478"
      },
      "execution_count": null,
      "outputs": [
        {
          "output_type": "stream",
          "name": "stdout",
          "text": [
            "(1120,) (125,)\n",
            "(1121,) (124,)\n",
            "Fold- 1 :  0.616 0.574538775510204 0.616 0.572464039828665 0.6940823069074581\n",
            "[[ 3  4  3]\n",
            " [ 1 65  8]\n",
            " [ 3 29  9]]\n",
            "(1120,) (125,)\n",
            "(1121,) (124,)\n",
            "Fold- 2 :  0.632 0.6113085194375517 0.632 0.6042436674436674 0.6657867183062117\n",
            "[[ 2  2  6]\n",
            " [ 0 63 11]\n",
            " [ 1 26 14]]\n",
            "(1120,) (125,)\n",
            "(1121,) (124,)\n",
            "Fold- 3 :  0.648 0.6194195083267248 0.648 0.6073904163393559 0.7142864895425559\n",
            "[[ 1  4  5]\n",
            " [ 1 66  7]\n",
            " [ 0 27 14]]\n",
            "(1120,) (125,)\n",
            "(1121,) (124,)\n",
            "Fold- 4 :  0.624 0.5692669683257919 0.624 0.5943924528301887 0.6884031753578257\n",
            "[[ 0  3  7]\n",
            " [ 0 60 14]\n",
            " [ 1 22 18]]\n",
            "(1120,) (125,)\n",
            "(1121,) (124,)\n",
            "Fold- 5 :  0.624 0.5473131313131313 0.624 0.5685433526011561 0.6321117965700008\n",
            "[[ 0  5  6]\n",
            " [ 0 67  7]\n",
            " [ 2 27 11]]\n",
            "(1121,) (124,)\n",
            "(1121,) (124,)\n",
            "Fold- 6 :  0.6612903225806451 0.6446201362124492 0.6612903225806451 0.6321881307884266 0.6467670885388519\n",
            "[[ 2  5  3]\n",
            " [ 2 64  7]\n",
            " [ 0 25 16]]\n",
            "(1121,) (124,)\n",
            "(1121,) (124,)\n",
            "Fold- 7 :  0.5887096774193549 0.5676870158399815 0.5887096774193549 0.5612114154069429 0.7040109027543159\n",
            "[[ 2  3  5]\n",
            " [ 0 59 14]\n",
            " [ 1 28 12]]\n",
            "(1121,) (124,)\n",
            "(1121,) (124,)\n",
            "Fold- 8 :  0.6612903225806451 0.6293954822427215 0.6612903225806451 0.6078513162773451 0.754540774613385\n",
            "[[ 2  3  5]\n",
            " [ 1 70  2]\n",
            " [ 3 28 10]]\n",
            "(1121,) (124,)\n",
            "(1121,) (124,)\n",
            "Fold- 9 :  0.5967741935483871 0.5752812050939002 0.5967741935483871 0.5653941691894343 0.6536903008613398\n",
            "[[ 2  5  3]\n",
            " [ 0 60 13]\n",
            " [ 1 28 12]]\n",
            "(1121,) (124,)\n",
            "(1121,) (124,)\n",
            "Fold- 10 :  0.6290322580645161 0.6023842917251052 0.6290322580645161 0.5996405651384614 0.7557066741466221\n",
            "[[ 2  4  4]\n",
            " [ 1 62 10]\n",
            " [ 1 26 14]]\n",
            "\n",
            "Average:  0.6281096774193549 0.5941215034027562 0.6281096774193549 0.5913319525843643 0.6909386227598567\n"
          ]
        }
      ]
    },
    {
      "cell_type": "markdown",
      "source": [
        "#ADA Boost\n"
      ],
      "metadata": {
        "id": "4GLnP0suzLYJ"
      }
    },
    {
      "cell_type": "code",
      "source": [
        "from sklearn.ensemble import AdaBoostClassifier\n",
        "from sklearn import model_selection\n",
        "from sklearn.metrics import classification_report\n",
        "from sklearn.ensemble import RandomForestClassifier as RF\n",
        "from sklearn.model_selection import StratifiedKFold\n",
        "from sklearn.metrics import confusion_matrix\n",
        "# import scikitplot as skplt\n",
        "import matplotlib.pyplot as plt\n",
        "import warnings\n",
        "warnings.filterwarnings(\"ignore\", category=DeprecationWarning) \n",
        "warnings.filterwarnings(\"ignore\", category=UserWarning) \n",
        "\n",
        "kfold = StratifiedKFold(n_splits=10, shuffle=True, random_state=42)\n",
        "i=0;\n",
        "xg = []\n",
        "size=20\n",
        "\n",
        "for train_index, test_index in kfold.split(data,y):\n",
        "        X_train_body, X_test_body = data[:,0][train_index], data[:,0][test_index]\n",
        "        y_train, y_test = y[train_index], y[test_index]\n",
        "        print(X_train_body.shape, X_test_body.shape)\n",
        "        print(Y_train.shape, Y_test.shape)\n",
        "\n",
        "\n",
        "        tm_train_results=topic_model_train(X_train_body,topic)\n",
        "        tm_test_results=topic_prediction_vector(X_test_body,topic)\n",
        "        X_train_df=create_TM_df(tm_train_results,topic)\n",
        "        X_test_df=create_TM_df(tm_test_results,topic)\n",
        "\n",
        "\n",
        "        \n",
        "        X_train_others,X_test_others=data[:,1:9][train_index], data[:,1:9][test_index]\n",
        "\n",
        "        X_train_others_df=pd.DataFrame([[x for x in col] for col in X_train_others],columns=feature[1:9])\n",
        "        X_test_others_df=pd.DataFrame([[x for x in col] for col in X_test_others],columns=feature[1:9])\n",
        "\n",
        "        X_all_train_df=pd.concat([X_train_df,X_train_others_df], axis=1)\n",
        "        X_all_test_df=pd.concat([X_test_df,X_test_others_df], axis=1)\n",
        "\n",
        "\n",
        "\n",
        "        X_train=X_all_train_df.values\n",
        "        X_test=X_all_test_df.values\n",
        "\n",
        "        my_model = AdaBoostClassifier(n_estimators=1000,learning_rate=0.05)\n",
        "        my_model.fit(X_train, y_train)\n",
        "        pred = my_model.predict(X_test)\n",
        "        pred_prob = my_model.predict_proba(X_test)\n",
        "        i=i+1\n",
        "        acc, pre, re, f1, acrc = permanceMetrics(y_test, pred, pred_prob)\n",
        "        print('Fold-',i,': ', acc, pre, re, f1, acrc)\n",
        "        xg += [acc, pre, re, f1, acrc]\n",
        "        cm = confusion_matrix(y_test, pred)\n",
        "        print(cm)\n",
        "acc, pre, re, f1, acrc = avgMetric(xg)\n",
        "print('\\nAverage: ', acc, pre, re, f1, acrc)"
      ],
      "metadata": {
        "colab": {
          "base_uri": "https://localhost:8080/"
        },
        "id": "hdlazzJgzOTW",
        "outputId": "116f3974-2e4e-41d8-d4ad-e619ed708a7b"
      },
      "execution_count": null,
      "outputs": [
        {
          "output_type": "stream",
          "name": "stdout",
          "text": [
            "(1120,) (125,)\n",
            "(1121,) (124,)\n",
            "Fold- 1 :  0.672 0.6018368298368298 0.672 0.6190968855146234 0.5513411467020101\n",
            "[[ 0  4  6]\n",
            " [ 0 69  5]\n",
            " [ 0 26 15]]\n",
            "(1120,) (125,)\n",
            "(1121,) (124,)\n",
            "Fold- 2 :  0.624 0.5940989247311828 0.624 0.5893441286441202 0.5884844198396066\n",
            "[[ 1  4  5]\n",
            " [ 0 63 11]\n",
            " [ 1 26 14]]\n",
            "(1120,) (125,)\n",
            "(1121,) (124,)\n",
            "Fold- 3 :  0.592 0.521668085106383 0.592 0.5478256203890007 0.46478516862210945\n",
            "[[ 0  4  6]\n",
            " [ 0 62 12]\n",
            " [ 1 28 12]]\n",
            "(1120,) (125,)\n",
            "(1121,) (124,)\n",
            "Fold- 4 :  0.64 0.5737142857142856 0.64 0.6015661103979459 0.6572052100578082\n",
            "[[ 0  3  7]\n",
            " [ 0 63 11]\n",
            " [ 0 24 17]]\n",
            "(1120,) (125,)\n",
            "(1121,) (124,)\n",
            "Fold- 5 :  0.592 0.5525714285714287 0.592 0.5456744186046514 0.5651939358440906\n",
            "[[ 1  6  4]\n",
            " [ 0 63 11]\n",
            " [ 1 29 10]]\n",
            "(1121,) (124,)\n",
            "(1121,) (124,)\n",
            "Fold- 6 :  0.6370967741935484 0.6546015180265655 0.6370967741935484 0.6133765173169012 0.5735303900878442\n",
            "[[ 1  4  5]\n",
            " [ 0 59 14]\n",
            " [ 0 22 19]]\n",
            "(1121,) (124,)\n",
            "(1121,) (124,)\n",
            "Fold- 7 :  0.6129032258064516 0.5323071528751754 0.6129032258064516 0.5525154997203059 0.6420985749725779\n",
            "[[ 0  4  6]\n",
            " [ 0 66  7]\n",
            " [ 1 30 10]]\n",
            "(1121,) (124,)\n",
            "(1121,) (124,)\n",
            "Fold- 8 :  0.6290322580645161 0.5808670007307654 0.6290322580645161 0.5681937663211584 0.5489900816630903\n",
            "[[ 1  4  5]\n",
            " [ 1 68  4]\n",
            " [ 1 31  9]]\n",
            "(1121,) (124,)\n",
            "(1121,) (124,)\n",
            "Fold- 9 :  0.6854838709677419 0.6262396909907089 0.6854838709677419 0.6243052927821398 0.6546453815899412\n",
            "[[ 0  5  5]\n",
            " [ 0 71  2]\n",
            " [ 0 27 14]]\n",
            "(1121,) (124,)\n",
            "(1121,) (124,)\n",
            "Fold- 10 :  0.6129032258064516 0.5781395874275824 0.6129032258064516 0.5784030255428421 0.6856429871243273\n",
            "[[ 4  2  4]\n",
            " [ 2 62  9]\n",
            " [ 1 30 10]]\n",
            "\n",
            "Average:  0.629741935483871 0.5816044504010908 0.629741935483871 0.5840301265233688 0.5931917296503405\n"
          ]
        }
      ]
    },
    {
      "cell_type": "markdown",
      "source": [
        "#SVM"
      ],
      "metadata": {
        "id": "jtvaoFzCmeRs"
      }
    },
    {
      "cell_type": "code",
      "source": [
        "from sklearn import svm\n",
        "from sklearn import model_selection\n",
        "from sklearn.metrics import classification_report\n",
        "from sklearn.model_selection import StratifiedKFold\n",
        "from sklearn.metrics import confusion_matrix\n",
        "# import scikitplot as skplt\n",
        "import matplotlib.pyplot as plt\n",
        "import warnings\n",
        "warnings.filterwarnings(\"ignore\", category=DeprecationWarning) \n",
        "warnings.filterwarnings(\"ignore\", category=UserWarning) \n",
        "\n",
        "kfold = StratifiedKFold(n_splits=10, shuffle=True, random_state=42)\n",
        "i=0;\n",
        "xg = []\n",
        "size=20\n",
        "\n",
        "for train_index, test_index in kfold.split(data,y):\n",
        "        X_train_body, X_test_body = data[:,0][train_index], data[:,0][test_index]\n",
        "        y_train, y_test = y[train_index], y[test_index]\n",
        "        print(X_train_body.shape, X_test_body.shape)\n",
        "        print(Y_train.shape, Y_test.shape)\n",
        "\n",
        "\n",
        "        tm_train_results=topic_model_train(X_train_body,topic)\n",
        "        tm_test_results=topic_prediction_vector(X_test_body,topic)\n",
        "        X_train_df=create_TM_df(tm_train_results,topic)\n",
        "        X_test_df=create_TM_df(tm_test_results,topic)\n",
        "\n",
        "\n",
        "        \n",
        "        X_train_others,X_test_others=data[:,1:9][train_index], data[:,1:9][test_index]\n",
        "\n",
        "        X_train_others_df=pd.DataFrame([[x for x in col] for col in X_train_others],columns=feature[1:9])\n",
        "        X_test_others_df=pd.DataFrame([[x for x in col] for col in X_test_others],columns=feature[1:9])\n",
        "\n",
        "        X_all_train_df=pd.concat([X_train_df,X_train_others_df], axis=1)\n",
        "        X_all_test_df=pd.concat([X_test_df,X_test_others_df], axis=1)\n",
        "\n",
        "\n",
        "\n",
        "        X_train=X_all_train_df.values\n",
        "        X_test=X_all_test_df.values\n",
        "\n",
        "        my_model = svm.SVC(decision_function_shape='ovr',probability=True)\n",
        "        my_model.fit(X_train, y_train)\n",
        "        pred = my_model.predict(X_test)\n",
        "        pred_prob = my_model.predict_proba(X_test)\n",
        "        i=i+1\n",
        "        acc, pre, re, f1, acrc = permanceMetrics(y_test, pred, pred_prob)\n",
        "        print('Fold-',i,': ', acc, pre, re, f1, acrc)\n",
        "        xg += [acc, pre, re, f1, acrc]\n",
        "        cm = confusion_matrix(y_test, pred)\n",
        "        print(cm)\n",
        "acc, pre, re, f1, acrc = avgMetric(xg)\n",
        "print('\\nAverage: ', acc, pre, re, f1, acrc)"
      ],
      "metadata": {
        "id": "SsRa2-PMmjpJ"
      },
      "execution_count": null,
      "outputs": []
    }
  ],
  "metadata": {
    "colab": {
      "collapsed_sections": [
        "qOKowQL54r20",
        "CRoP-BFu4xUH",
        "0spvlWXl8bHx",
        "kxnKvMMa3j92",
        "NMNRyDTAywQ4",
        "lesB_3tBy2eB",
        "4GLnP0suzLYJ"
      ],
      "name": "PreHoc TM.ipynb",
      "provenance": []
    },
    "kernelspec": {
      "display_name": "Python 3",
      "name": "python3"
    },
    "language_info": {
      "name": "python"
    }
  },
  "nbformat": 4,
  "nbformat_minor": 0
}