{
  "cells": [
    {
      "cell_type": "code",
      "execution_count": null,
      "metadata": {
        "id": "BwOBqTJYg_Cy"
      },
      "outputs": [],
      "source": [
        "pip install -U nltk"
      ]
    },
    {
      "cell_type": "code",
      "execution_count": null,
      "metadata": {
        "id": "5gN3kOMbHwv7"
      },
      "outputs": [],
      "source": [
        "import numpy as np\n",
        "import pandas as pd\n",
        "\n",
        "import gensim\n",
        "from gensim.models.doc2vec import Doc2Vec, TaggedDocument\n",
        "\n"
      ]
    },
    {
      "cell_type": "code",
      "execution_count": null,
      "metadata": {
        "id": "QvCprncIhItV"
      },
      "outputs": [],
      "source": [
        "import nltk \n",
        "nltk.download('stopwords')"
      ]
    },
    {
      "cell_type": "code",
      "execution_count": null,
      "metadata": {
        "id": "9SfabgRXN2WR"
      },
      "outputs": [],
      "source": [
        "!pip install pyldavis"
      ]
    },
    {
      "cell_type": "code",
      "execution_count": null,
      "metadata": {
        "id": "dCHjwCpjOGNT"
      },
      "outputs": [],
      "source": [
        "import pyLDAvis\n",
        "import pyLDAvis.gensim_models\n",
        "import gensim\n",
        "import gensim.corpora as corpora\n",
        "from gensim.utils import simple_preprocess\n",
        "from gensim.models import CoherenceModel\n",
        "import spacy"
      ]
    },
    {
      "cell_type": "code",
      "execution_count": null,
      "metadata": {
        "id": "BcMUmNZkI90E"
      },
      "outputs": [],
      "source": [
        "from google.colab import auth\n",
        "auth.authenticate_user()\n",
        "\n",
        "import gspread\n",
        "from google.auth import default\n",
        "creds, _ = default()\n",
        "\n",
        "gc = gspread.authorize(creds)"
      ]
    },
    {
      "cell_type": "code",
      "execution_count": null,
      "metadata": {
        "id": "Gc2sP_bJOmCc"
      },
      "outputs": [],
      "source": [
        "nlp = spacy.load('en_core_web_sm', disable=['parser', 'ner'])\n",
        "stop_words = nltk.corpus.stopwords.words('english')"
      ]
    },
    {
      "cell_type": "markdown",
      "source": [
        "### pre hoc"
      ],
      "metadata": {
        "id": "t4YvQYhaEkVF"
      }
    },
    {
      "cell_type": "code",
      "source": [
        "import pandas as pd\n",
        "worksheet1 = gc.open('Final Dataset').get_worksheet(0) #generalized data worksheet\n",
        "worksheet2 = gc.open('Final Dataset').get_worksheet(1) #filtered data worksheet\n",
        "rows1 = worksheet1.get_all_values()\n",
        "rows2 = worksheet2.get_all_values()\n",
        "\n",
        "\n",
        "stackData1=pd.DataFrame.from_records(rows1,columns=rows1[0])\n",
        "# stackData2=pd.DataFrame.from_records(rows2,columns=rows2[0])\n",
        "stackData1.drop(0, inplace=True, axis=0)\n",
        "# stackData2.drop(0, inplace=True, axis=0)\n",
        "# stackData=[stackData1, stackData2]\n",
        "# stackData=pd.concat(stackData,ignore_index=True)\n",
        "stackData=stackData1\n",
        "stackData['ProcessedBody']=stackData['ProcessedBody']+stackData['Tags']+stackData['Title']\n",
        "\n",
        "feature=[\"ProcessedBody\", \"LOC\", \"QuestionLength\",\t\"Url+ImageCount\",\t\"Reputation\",\t\"user_badge_bronze_counts\",\t\"user_badge_gold_counts\",\t\"user_badge_silver_counts\",\t\"accept_rate\"]\n",
        "data=stackData[feature].values\n",
        "y=stackData.Label.values"
      ],
      "metadata": {
        "id": "rLXjF7lbEgom"
      },
      "execution_count": null,
      "outputs": []
    },
    {
      "cell_type": "markdown",
      "source": [
        "### post hoc"
      ],
      "metadata": {
        "id": "Y2CtXoh1Em7J"
      }
    },
    {
      "cell_type": "code",
      "execution_count": null,
      "metadata": {
        "id": "MWi8G6vLJJG6"
      },
      "outputs": [],
      "source": [
        "import pandas as pd\n",
        "worksheet1 = gc.open('Final Dataset').get_worksheet(0)\n",
        "worksheet2 = gc.open('Final Dataset').get_worksheet(1)\n",
        "rows1 = worksheet1.get_all_values()\n",
        "rows2 = worksheet2.get_all_values()\n",
        "\n",
        "\n",
        "stackData1=pd.DataFrame.from_records(rows1,columns=rows1[0])\n",
        "# stackData2=pd.DataFrame.from_records(rows2,columns=rows2[0])\n",
        "\n",
        "\n",
        "stackData1.drop(0, inplace=True, axis=0)\n",
        "# stackData2.drop(0, inplace=True, axis=0)\n",
        "\n",
        "stackData=stackData1\n",
        "# stackData=[stackData1, stackData2]\n",
        "# stackData=pd.concat(stackData,ignore_index=True)\n",
        "\n",
        "stackData['ProcessedBody']=stackData['ProcessedBody']+stackData['Tags']+stackData['Title']\n",
        "\n",
        "feature=[\"ProcessedBody\", \"LOC\", \"QuestionLength\",\t\"Url+ImageCount\",\t\"Reputation\",\t\"user_badge_bronze_counts\",\t\"user_badge_gold_counts\",\t\"user_badge_silver_counts\",\t\"accept_rate\" , \"view_count\",\t\"answer_count\",\t\"favorite_count\",\t\"question_score\",\t\"up_vote_count\",\t\"First_answer_Interval\",\"Accept_answer_Interval\"]\n",
        "#---------count------------#\n",
        "stackData[\"view_count\"] = pd.to_numeric(stackData[\"view_count\"])\n",
        "stackData[\"answer_count\"] = pd.to_numeric(stackData[\"answer_count\"])\n",
        "stackData[\"favorite_count\"] = pd.to_numeric(stackData[\"favorite_count\"])\n",
        "stackData[\"question_score\"] = pd.to_numeric(stackData[\"question_score\"])\n",
        "stackData[\"up_vote_count\"] = pd.to_numeric(stackData[\"up_vote_count\"])\n",
        "#---------Data------------,\t\"First_answer_date\",\t\"Accepted_answer_date\"#\n",
        "stackData[\"creation_date\"] = pd.to_datetime(stackData[\"creation_date\"],unit='s')\n",
        "stackData[\"First_answer_date\"] = pd.to_datetime(stackData[\"First_answer_date\"],unit='s')\n",
        "stackData[\"Accepted_answer_date\"] = pd.to_datetime(stackData[\"Accepted_answer_date\"],unit='s')\n",
        "#----------Date Interval ------#\n",
        "stackData[\"First_answer_Interval\"]=(stackData[\"First_answer_date\"]-stackData[\"creation_date\"])/pd.Timedelta(minutes=1)\n",
        "stackData[\"Accept_answer_Interval\"]=(stackData[\"Accepted_answer_date\"]-stackData[\"creation_date\"])/pd.Timedelta(minutes=1)\n",
        "\n",
        "stackData[\"First_answer_Interval\"] = stackData[\"First_answer_Interval\"].apply(lambda x: -1 if x < 0 else x)\n",
        "stackData[\"Accept_answer_Interval\"]=stackData[\"Accept_answer_Interval\"].apply(lambda x: -1 if x < 0 else x)\n",
        "\n",
        "data=stackData[feature].values\n",
        "y=stackData.Label.values\n"
      ]
    },
    {
      "cell_type": "markdown",
      "source": [
        "## Doc2vec Model"
      ],
      "metadata": {
        "id": "mt0z5nkKEsx8"
      }
    },
    {
      "cell_type": "code",
      "execution_count": null,
      "metadata": {
        "id": "0TFm97qLMN3O"
      },
      "outputs": [],
      "source": [
        "def process_words(texts, stop_words=stop_words, allowed_tags=['NOUN', 'ADJ', 'VERB', 'ADV']):\n",
        "    bigram = gensim.models.Phrases(texts, min_count=20, threshold=100)\n",
        "    trigram = gensim.models.Phrases(bigram[texts], threshold=100)\n",
        "    bigram_mod = gensim.models.phrases.Phraser(bigram)\n",
        "    trigram_mod = gensim.models.phrases.Phraser(trigram)\n",
        "    texts = [[word for word in simple_preprocess(str(doc), deacc=True, min_len=3) if word not in stop_words] for doc in texts]\n",
        "    texts = [bigram_mod[doc] for doc in texts]\n",
        "    texts = [trigram_mod[bigram_mod[doc]] for doc in texts]\n",
        "    \n",
        "    texts_out = []\n",
        "    for sent in texts:\n",
        "        doc = nlp(\" \".join(sent)) \n",
        "        texts_out.append([token.lemma_ for token in doc if token.pos_ in allowed_tags])\n",
        "    \n",
        "    texts_out = [[word for word in simple_preprocess(str(doc), deacc=True, min_len=3) if word not in stop_words] for doc in texts_out]    \n",
        "    return texts_out"
      ]
    },
    {
      "cell_type": "code",
      "execution_count": null,
      "metadata": {
        "id": "xcuRqOK5iYu0"
      },
      "outputs": [],
      "source": [
        "def tagged_document(data):\n",
        "  for i, d in enumerate(data):\n",
        "    yield gensim.models.doc2vec.TaggedDocument(d,[i])\n"
      ]
    },
    {
      "cell_type": "code",
      "execution_count": null,
      "metadata": {
        "id": "4_HhHay6AWch"
      },
      "outputs": [],
      "source": [
        "def doc2vec(data,size):\n",
        "    global vectorModel\n",
        "    vectorModel=gensim.models.doc2vec.Doc2Vec(vector_size=size,min_count=2,epochs=30)\n",
        "    vectorModel.build_vocab(data)\n",
        "    vectorModel.train(data,total_examples=vectorModel.corpus_count,epochs=vectorModel.epochs)"
      ]
    },
    {
      "cell_type": "code",
      "execution_count": null,
      "metadata": {
        "id": "KtEXYwu7Bs9w"
      },
      "outputs": [],
      "source": [
        "def testModel(data):\n",
        "    vectorList=[]\n",
        "    for d in data:\n",
        "        vectorList.append(vectorModel.infer_vector(d))\n",
        "    df=pd.DataFrame(vectorList)\n",
        "    return df"
      ]
    },
    {
      "cell_type": "code",
      "execution_count": null,
      "metadata": {
        "id": "9A1nnvaKFIRf"
      },
      "outputs": [],
      "source": [
        "from sklearn.metrics import accuracy_score\n",
        "from sklearn.metrics import precision_score\n",
        "from sklearn.metrics import recall_score\n",
        "from sklearn.metrics import f1_score\n",
        "from sklearn.metrics import roc_auc_score\n",
        "\n",
        "def permanceMetrics(Y, pred, pred_prob):\n",
        "    acc = accuracy_score(Y,pred)\n",
        "    pre = precision_score(Y,pred,average='weighted')\n",
        "    re = recall_score(Y,pred, average='weighted')\n",
        "    f1 = f1_score(Y,pred, average='weighted')\n",
        "    acrc = roc_auc_score(Y,pred_prob,multi_class= 'ovr')\n",
        "    return acc, pre, re, f1, acrc\n",
        "\n",
        "def avgMetric(met):\n",
        "    res = np.array(met)\n",
        "    acc = res[::5].mean()\n",
        "    pre = res[1::5].mean()\n",
        "    re = res[2::5].mean()\n",
        "    f1 = res[3::5].mean()\n",
        "    acrc = res[4::5].mean()\n",
        "    return np.array([acc, pre, re, f1, acrc])"
      ]
    },
    {
      "cell_type": "markdown",
      "source": [
        "## Doc2Vec on Body"
      ],
      "metadata": {
        "id": "qJw59RxRRmJH"
      }
    },
    {
      "cell_type": "code",
      "execution_count": null,
      "metadata": {
        "id": "7VkZaX23qMOp"
      },
      "outputs": [],
      "source": [
        "import warnings\n",
        "warnings.filterwarnings(\"ignore\", category=DeprecationWarning) \n",
        "warnings.filterwarnings(\"ignore\", category=UserWarning) \n",
        "from sklearn import model_selection\n",
        "from sklearn.metrics import classification_report\n",
        "from sklearn.model_selection import StratifiedKFold\n",
        "from sklearn.ensemble import RandomForestClassifier as RF\n",
        "from sklearn.metrics import confusion_matrix\n",
        "\n",
        "skf = StratifiedKFold(n_splits=10)\n",
        "\n",
        "i=0\n",
        "rm = []\n",
        "for size in range(20,40):\n",
        "    i=0\n",
        "    print(\"for Size: \",size)\n",
        "    print('Metrics :  Accuracy \\t\\tPrecision \\t\\tRecall \\t\\tF1-score \\tAUC_ROC')\n",
        "    for train_index, test_index in skf.split(data,y):\n",
        "        i=i+1\n",
        "        X_train, X_test = data[train_index], data[test_index]\n",
        "        y_train, y_test = y[train_index], y[test_index]\n",
        "        trainData=X_train.tolist()\n",
        "        testData=X_test.tolist()\n",
        "        processed_train=process_words(trainData)\n",
        "        data_for_training=list(tagged_document(processed_train))\n",
        "        doc2vec(data_for_training,size)\n",
        "        processed_test=process_words(testData)\n",
        "        train_vector=testModel(processed_train)\n",
        "        test_vector=testModel(processed_test)\n",
        "        print(len(X_train), len(X_test))\n",
        "        print(train_index,test_index)\n",
        "\n",
        "        rf = RF(n_estimators = 15, max_depth = 8, criterion='entropy', random_state = 42)\n",
        "        rf.fit(train_vector,y_train)\n",
        "        pred = rf.predict(test_vector)\n",
        "        pred_prob = rf.predict_proba(test_vector)\n",
        "        acc, pre, re, f1, arc = permanceMetrics(y_test, pred, pred_prob)\n",
        "        print('Fold-',i,': ', acc, pre, re, f1,arc)\n",
        "        rm += [acc, pre, re, f1,arc]\n",
        "        cm = confusion_matrix(y_test, pred)\n",
        "        print(cm)\n",
        "    acc, pre, re, f1, acrc = avgMetric(rm)\n",
        "    print('\\nAverage: ', acc, pre, re, f1, acrc)\n"
      ]
    },
    {
      "cell_type": "markdown",
      "source": [
        "## Pre Hoc & Post Hoc"
      ],
      "metadata": {
        "id": "oCeVgyKE2xB6"
      }
    },
    {
      "cell_type": "code",
      "source": [
        "import warnings\n",
        "warnings.filterwarnings(\"ignore\", category=DeprecationWarning) \n",
        "warnings.filterwarnings(\"ignore\", category=UserWarning) \n",
        "from sklearn import model_selection\n",
        "from sklearn.metrics import classification_report\n",
        "from sklearn.model_selection import StratifiedKFold\n",
        "from sklearn.ensemble import RandomForestClassifier as RF\n",
        "from sklearn.metrics import confusion_matrix\n",
        "from sklearn.feature_selection import SelectFromModel\n",
        "\n",
        "skf = StratifiedKFold(n_splits=10)\n",
        "\n",
        "i=0\n",
        "rm = []\n",
        "for size in range(20,40):\n",
        "    i=0\n",
        "    print(\"for Size: \",size)\n",
        "    print('Metrics :  Accuracy \\t\\tPrecision \\t\\tRecall \\t\\tF1-score \\tAUC_ROC')\n",
        "    for train_index, test_index in skf.split(data,y):\n",
        "        i=i+1\n",
        "        X_train, X_test = data[:,0][train_index], data[:,0][test_index]\n",
        "        y_train, y_test = y[train_index], y[test_index]\n",
        "        trainData=X_train.tolist()\n",
        "        testData=X_test.tolist()\n",
        "        processed_train=process_words(trainData)\n",
        "        data_for_training=list(tagged_document(processed_train))\n",
        "        doc2vec(data_for_training,size)\n",
        "        processed_test=process_words(testData)\n",
        "        train_vector=testModel(processed_train)\n",
        "        test_vector=testModel(processed_test)\n",
        "        X_train_others,X_test_others=data[:,1:][train_index], data[:,1:][test_index]\n",
        "\n",
        "        X_train_others_df=pd.DataFrame([[x for x in col] for col in X_train_others],columns=feature[1:])\n",
        "        X_test_others_df=pd.DataFrame([[x for x in col] for col in X_test_others],columns=feature[1:])\n",
        "\n",
        "        X_all_train_df=pd.concat([X_train_others_df], axis=1)\n",
        "        X_all_test_df=pd.concat([X_test_others_df], axis=1)\n",
        "\n",
        "        X_train=X_all_train_df.values\n",
        "        X_test=X_all_test_df.values\n",
        "\n",
        "\n",
        "        rf = RF(n_estimators = 15, max_depth = 8, criterion='entropy', random_state = 42)\n",
        "        rf.fit(X_train,y_train)\n",
        "        feat_importances = pd.Series(rf.feature_importances_, index=X_all_train_df.columns)\n",
        "        feat_importances.nlargest(20).plot(kind='barh')\n",
        "        pred = rf.predict(X_test)\n",
        "        pred_prob = rf.predict_proba(X_test)\n",
        "        acc, pre, re, f1, arc = permanceMetrics(y_test, pred, pred_prob)\n",
        "        print('Fold-',i,': ', acc, pre, re, f1,arc)\n",
        "        rm += [acc, pre, re, f1,arc]\n",
        "        cm = confusion_matrix(y_test, pred)\n",
        "        print(cm)\n",
        "    acc, pre, re, f1, acrc = avgMetric(rm)\n",
        "    print('\\nAverage: ', acc, pre, re, f1, acrc)\n"
      ],
      "metadata": {
        "id": "IByhS-INLNWn"
      },
      "execution_count": null,
      "outputs": []
    }
  ],
  "metadata": {
    "colab": {
      "collapsed_sections": [],
      "name": "Doc2Vec",
      "provenance": []
    },
    "kernelspec": {
      "display_name": "Python 3",
      "name": "python3"
    },
    "language_info": {
      "name": "python"
    }
  },
  "nbformat": 4,
  "nbformat_minor": 0
}